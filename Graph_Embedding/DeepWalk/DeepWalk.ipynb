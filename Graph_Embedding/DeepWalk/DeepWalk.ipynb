{
 "cells": [
  {
   "cell_type": "markdown",
   "id": "2c71b504-f788-4930-9253-da060877d885",
   "metadata": {},
   "source": [
    "# Try with DeepWalk Algorithm"
   ]
  },
  {
   "cell_type": "code",
   "execution_count": 5,
   "id": "df698bda-37d6-40d1-8de2-33f33c71c60d",
   "metadata": {},
   "outputs": [],
   "source": [
    "import numpy as np\n",
    "import networkx as nx\n",
    "import threading\n",
    "import torch.nn as nn\n",
    "import torch.optim as optim\n",
    "import torch\n",
    "from torch.utils.data import Dataset, DataLoader\n",
    "\n",
    "import matplotlib.pyplot as plt\n",
    "from concurrent.futures import ThreadPoolExecutor"
   ]
  },
  {
   "cell_type": "markdown",
   "id": "05be39dd-b88f-4c49-86a6-9c1ea8fea9d3",
   "metadata": {},
   "source": [
    "Create a customed Graph"
   ]
  },
  {
   "cell_type": "code",
   "execution_count": 6,
   "id": "aebeb046-4442-4442-8b05-d7c6fe609254",
   "metadata": {},
   "outputs": [],
   "source": [
    "class Graph:\n",
    "    def __init__(self, graph_dict = None, directed = False):\n",
    "        self.graph_dict = graph_dict or {}\n",
    "        self.directed = directed\n",
    "        self.lock = threading.Lock()\n",
    "\n",
    "        if not directed:\n",
    "            self.make_undirected()\n",
    "\n",
    "    def get_vertices(self):\n",
    "        return list(self.graph_dict.keys())\n",
    "\n",
    "    def make_adjacency_matrix(self):\n",
    "        vertices = list(self.graph_dict.keys())\n",
    "        shape_matrix = len(vertices)\n",
    "        adj_matrix = np.zeros((shape_matrix, shape_matrix))\n",
    "\n",
    "        for i in range(shape_matrix):\n",
    "            for j in range(shape_matrix):\n",
    "                if vertices[j] in self.graph_dict[vertices[i]]:\n",
    "                    adj_matrix[i][j] = 1\n",
    "\n",
    "        return adj_matrix\n",
    "\n",
    "\n",
    "    def add_vertices(self, vertex):\n",
    "        if vertex not in self.graph_dict:\n",
    "            self.graph_dict[vertex] = []\n",
    "\n",
    "    def add_edges(self, vertex1, vertex2):\n",
    "        self.add_vertices(vertex1)\n",
    "        self.add_vertices(vertex2)\n",
    "        self.graph_dict[vertex1].append(vertex2)\n",
    "\n",
    "        if not self.directed:\n",
    "            self.graph_dict[vertex2].append(vertex1)\n",
    "\n",
    "    def make_undirected(self):\n",
    "        for vertex in self.graph_dict:\n",
    "            for neighbor in self.graph_dict[vertex]:\n",
    "                if vertex not in self.graph_dict[neighbor]:\n",
    "                    self.graph_dict[neighbor].append(vertex)\n",
    "\n",
    "    def to_networkx(self):\n",
    "        if self.directed:\n",
    "            G_nx = nx.DiGraph()\n",
    "        else:\n",
    "            G_nx = nx.Graph()\n",
    "\n",
    "        for vertex, neighbors in self.graph_dict.items():\n",
    "            G_nx.add_node(vertex)\n",
    "            for neighbor in neighbors:\n",
    "                G_nx.add_edge(vertex, neighbor)\n",
    "\n",
    "        return G_nx\n",
    "\n",
    "    def __str__(self):\n",
    "        return str(self.graph_dict)\n",
    "\n"
   ]
  },
  {
   "cell_type": "code",
   "execution_count": 7,
   "id": "54d2ce3f-c522-4839-9be0-f56cf9b35036",
   "metadata": {},
   "outputs": [
    {
     "name": "stdout",
     "output_type": "stream",
     "text": [
      "{'A': ['B', 'C', 'H'], 'B': ['A', 'D', 'H'], 'C': ['A', 'E', 'H'], 'D': ['B', 'E', 'F'], 'E': ['C', 'D', 'F', 'G'], 'F': ['D', 'E', 'H'], 'G': ['E', 'H'], 'H': ['F', 'G', 'A', 'B', 'C']}\n"
     ]
    }
   ],
   "source": [
    "G = Graph()\n",
    "G.add_vertices('A')\n",
    "G.add_vertices('B')\n",
    "G.add_vertices('C')\n",
    "G.add_vertices('D')\n",
    "G.add_vertices('E')\n",
    "G.add_vertices('F')\n",
    "G.add_vertices('G')\n",
    "G.add_vertices('H')\n",
    "G.add_edges('A', 'B')\n",
    "G.add_edges('A', 'C')\n",
    "G.add_edges('B', 'D')\n",
    "G.add_edges('C', 'E')\n",
    "G.add_edges('D', 'E')\n",
    "G.add_edges('D', 'F')\n",
    "G.add_edges('E', 'F')\n",
    "G.add_edges('E', 'G')\n",
    "G.add_edges('F', 'H')\n",
    "G.add_edges('G', 'H')\n",
    "G.add_edges('H', 'A')\n",
    "G.add_edges('H', 'B')\n",
    "G.add_edges('H', 'C')\n",
    "\n",
    "\n",
    "print(G.graph_dict)"
   ]
  },
  {
   "cell_type": "code",
   "execution_count": 8,
   "id": "91ab792d-6d07-4a57-9deb-435e221554a7",
   "metadata": {},
   "outputs": [
    {
     "name": "stdout",
     "output_type": "stream",
     "text": [
      "[[0. 1. 1. 0. 0. 0. 0. 1.]\n",
      " [1. 0. 0. 1. 0. 0. 0. 1.]\n",
      " [1. 0. 0. 0. 1. 0. 0. 1.]\n",
      " [0. 1. 0. 0. 1. 1. 0. 0.]\n",
      " [0. 0. 1. 1. 0. 1. 1. 0.]\n",
      " [0. 0. 0. 1. 1. 0. 0. 1.]\n",
      " [0. 0. 0. 0. 1. 0. 0. 1.]\n",
      " [1. 1. 1. 0. 0. 1. 1. 0.]]\n"
     ]
    }
   ],
   "source": [
    "adj_matrix = G.make_adjacency_matrix()\n",
    "print(adj_matrix)"
   ]
  },
  {
   "cell_type": "code",
   "execution_count": 10,
   "id": "a6b7b58b-10fe-4780-912c-46b9b1980260",
   "metadata": {},
   "outputs": [
    {
     "name": "stdout",
     "output_type": "stream",
     "text": [
      "['A', 'B', 'C', 'H', 'D', 'E', 'F', 'G']\n",
      "[('A', 'B'), ('A', 'C'), ('A', 'H'), ('B', 'D'), ('B', 'H'), ('C', 'E'), ('C', 'H'), ('H', 'F'), ('H', 'G'), ('D', 'E'), ('D', 'F'), ('E', 'F'), ('E', 'G')]\n"
     ]
    }
   ],
   "source": [
    "g_nx = G.to_networkx()\n",
    "print(g_nx.nodes)\n",
    "print(g_nx.edges)"
   ]
  },
  {
   "cell_type": "code",
   "execution_count": 11,
   "id": "104391c9-e03d-4893-a67b-2d76fa4c7dc7",
   "metadata": {},
   "outputs": [
    {
     "data": {
      "image/png": "[encoded data removed]",
      "text/plain": [
       "<Figure size 800x600 with 1 Axes>"
      ]
     },
     "metadata": {},
     "output_type": "display_data"
    }
   ],
   "source": [
    "# Visualize the graph using networkx\n",
    "plt.figure(figsize=(8, 6))\n",
    "nx.draw(g_nx, with_labels=True, node_color='skyblue',\n",
    "        node_size=1500, edge_color='gray', font_size=12, font_weight='bold')\n",
    "plt.title(\"Graph Visualization using networkx\", fontsize=16)\n",
    "plt.show()"
   ]
  },
  {
   "cell_type": "markdown",
   "id": "ae6e4729-2bad-46ab-84af-380e72599769",
   "metadata": {},
   "source": [
    "## Random Walk Algorithm\n",
    "\n",
    "The random walk in DeepWalk generates sequences of nodes (analogous to sentences in NLP). These sequences capture the graph's local and global structure, which are then used for training a Skip-gram model to generate embeddings. The sequences of nodes are chosen randomly from the neighbor \n",
    "of the current node and repeat until reaches the specified length \n",
    "\n",
    "### Steps in Random Walk for DeepWalk\n",
    "\n",
    "1. **Graph Initialization**  \n",
    "   Input is an undirected graph $(G = (V, E))$, where $V$ represents nodes, and $E$ represents edges.\n",
    "\n",
    "2. **Random Walk Parameters**  \n",
    "   - **Walk length  $l$**: The number of steps in each random walk.\n",
    "   - **Number of walks per node $k$**: How many walks to start from each node.\n",
    "   - **Transition probabilities**: Uniform for a basic random walk, meaning all neighbors have an equal chance of being chosen.\n",
    "\n",
    "3. **Generate Random Walks**  \n",
    "   For each node $v_i \\in V$:\n",
    "   - Start a random walk at $v_i$.\n",
    "   - At each step, choose $v_k$ to a randomly chosen neighbor of the current node, for which $k \\in \\mathcal{N}(v_i)$ and the set $\\mathcal{N}(v_i)$ is the neighborhood of the vertex $v_i$.\n",
    "   - Continue until the walk reaches the specified length $l$.\n",
    "   \n",
    "   This generates a corpus of random walks (node sequences).\n",
    "\n",
    "4. **Train Skip-gram Model**  \n",
    "   Treat the random walks as a \"text corpus\" and train a Skip-gram model (e.g., from Word2Vec) to learn node embeddings.\n",
    "\n",
    "---"
   ]
  },
  {
   "cell_type": "code",
   "execution_count": 17,
   "id": "99a3b434-cce5-402a-ae7e-5651051934e9",
   "metadata": {},
   "outputs": [
    {
     "name": "stdout",
     "output_type": "stream",
     "text": [
      "{'A': ['A', np.str_('B'), np.str_('A'), np.str_('B'), np.str_('D')], 'B': ['B', np.str_('A'), np.str_('C'), np.str_('E'), np.str_('C')], 'C': ['C', np.str_('H'), np.str_('C'), np.str_('E'), np.str_('G')], 'D': ['D', np.str_('E'), np.str_('D'), np.str_('F'), np.str_('E')], 'E': ['E', np.str_('C'), np.str_('E'), np.str_('F'), np.str_('H')], 'F': ['F', np.str_('H'), np.str_('A'), np.str_('C'), np.str_('A')], 'G': ['G', np.str_('E'), np.str_('G'), np.str_('E'), np.str_('D')], 'H': ['H', np.str_('B'), np.str_('H'), np.str_('A'), np.str_('C')]}\n"
     ]
    }
   ],
   "source": [
    "# The algorithm of the Random Algorithm \n",
    "def random_walk(graph, start_vertex, num_steps):\n",
    "    \"\"\"\n",
    "    Performs a random walk on a graph starting from a specified vertex.\n",
    "\n",
    "    Parameters\n",
    "    ----------\n",
    "    graph: Graph object\n",
    "        The graph containing nodes (vertices) and edges.\n",
    "    start_vertex: Any\n",
    "        The starting node for the random walk.\n",
    "    num_steps: int\n",
    "        The number of steps the random walk should take.\n",
    "\n",
    "    Returns\n",
    "    -------\n",
    "    traverse_path: list\n",
    "        A list of nodes visited during the random walk.\n",
    "\n",
    "    Raises\n",
    "    ------\n",
    "    ValueError\n",
    "        If the start_vertex is not a valid node in the graph.\n",
    "    \"\"\"\n",
    "    if start_vertex not in graph.graph_dict:\n",
    "        return ValueError(\"Start vertex not in graph\")\n",
    "\n",
    "    current_vertex = start_vertex\n",
    "    traverse_path = [current_vertex]\n",
    "\n",
    "    for _ in range(num_steps):\n",
    "        neighbors = graph.graph_dict[current_vertex]\n",
    "\n",
    "        if not neighbors:\n",
    "            break\n",
    "\n",
    "        next_step = np.random.choice(neighbors)    \n",
    "        traverse_path.append(next_step)\n",
    "        current_vertex = next_step\n",
    "\n",
    "    return traverse_path\n",
    "\n",
    "\n",
    "# Conducting the algorithm with multi-threading to improve the performance of the model\n",
    "def random_walk_multi(graph, start_vertices, num_steps, num_threads = 4):\n",
    "    results = {}\n",
    "\n",
    "    def worker(start_vertex):\n",
    "        path = random_walk(graph, start_vertex, num_steps)\n",
    "        with graph.lock:\n",
    "            results[start_vertex] = path\n",
    "\n",
    "    with ThreadPoolExecutor(max_workers = num_threads) as executor:\n",
    "        executor.map(worker, start_vertices)\n",
    "\n",
    "    return results\n",
    "\n",
    "\n",
    "start_vertices = ['A', 'B', 'C', 'D', 'E', 'F', 'G', 'H']\n",
    "num_steps = 4\n",
    "num_threads = 4\n",
    "\n",
    "result_paths = random_walk_multi(G, start_vertices, num_steps, num_threads)\n",
    "print(result_paths)"
   ]
  },
  {
   "cell_type": "markdown",
   "id": "c4bfbd92-39b7-4103-af07-a19b5b150666",
   "metadata": {},
   "source": [
    "## Implementing the DeepWalk algorithm\n",
    "\n",
    "These random walks sequences can be thought as the basic phrases or sentences of the graph. We can take the direct analogy to the concept of Word2Vec, which estimate the likelihood of observing the vertex $v_i$ given the the neighboring vertex $v_k$. However, the goal is to learn the latent representation $\\Phi \\in \\mathbb{R}^{|V| \\times d}$. The mapping $\\Phi : v_i \\in \\mathbb{R} \\rightarrow \\mathbb{R}^{d}$ is the social representation of the vertex $v_i$.\n",
    "\n",
    "The problem then to estimate the likelihood:\n",
    "\n",
    "$$Pr(v_i | (\\Phi(v_1), \\Phi(v_2). \\dots, \\Phi(v_{i - 1}))$$\n",
    "\n",
    "However, as the length of walk increases, computing the equation above is unfeasible. Hence, we have:\n",
    "- Use 1 word to predict the context\n",
    "- The context are the words in the left or in the right of the targeted word\n",
    "- Removes the ordering constraint\n",
    "\n",
    "Which is equivalent to the optimization problem below \n",
    "$$\\underset{\\Phi}{\\text{minimize}} \\quad - \\log \\Pr\\left(\\{v_{i-w}, \\cdots, v_{i-1}, v_{i+1}, \\cdots, v_{i+w}\\} \\mid \\Phi(v_i)\\right)$$\n",
    "\n",
    "Solving the problem above captures the shared similarities in local graph structure between vertices. It can be paraphrased as the sum of the probabilities $P(v_k | v_i)$, speeding up the training time. The process above is called Skip Gram Algorithm, which is used a lot in word2vec algorithm in NLP field\n",
    "\n",
    "Solving this optimization captures the shared similarities in the local graph structure between vertices. It can be viewed as the sum of probabilities \n",
    "𝑃\n",
    "(\n",
    "𝑣\n",
    "𝑘\n",
    "∣\n",
    "𝑣\n",
    "𝑖\n",
    ")\n",
    "P(v \n",
    "k\n",
    "​\n",
    " ∣v \n",
    "i\n",
    "​\n",
    " ), which helps accelerate training. This process is known as the Skip Gram Algorithm, a key component of the Word2Vec algorithm used in Natural Language Processing (NLP)"
   ]
  },
  {
   "cell_type": "code",
   "execution_count": 18,
   "id": "873e54c4-14f8-4f0b-9209-21ef055ada25",
   "metadata": {},
   "outputs": [],
   "source": [
    "class DeepWalk(nn.Module):\n",
    "    def __init__(self, num_nodes, embedding_dim):\n",
    "        super(DeepWalk, self).__init__()\n",
    "        self.embeddings = nn.Embedding(num_nodes, embedding_dim)\n",
    "        # self.output_layer = nn.Linear(embedding_dim, num_nodes, bias = False)\n",
    "\n",
    "    def forward(self, center, context):\n",
    "        # return self.output_layer(self.embeddings(input_walks))\n",
    "\n",
    "        center_embed = self.embeddings(center)\n",
    "        context_embed = self.embeddings(context)\n",
    "\n",
    "        # Applying log-sum-exp trick to solve the overflow problem\n",
    "        result = torch.matmul(center_embed, context_embed.T) # (B, 1)\n",
    "        all_logits = torch.matmul(center_embed, self.embeddings.weight.T) # (B, Vocab_size)\n",
    "\n",
    "        max_logits, _ = torch.max(all_logits, dim = 1, keepdim = True)\n",
    "        log_sum_exp = max_logits + torch.log(torch.sum(torch.exp(all_logits - max_logits), dim=1, keepdim=True))\n",
    "\n",
    "        log_prob = result - log_sum_exp\n",
    "\n",
    "        return log_prob"
   ]
  },
  {
   "cell_type": "code",
   "execution_count": null,
   "id": "1a3ec21b-04b8-4326-a197-ba1de2d21de4",
   "metadata": {},
   "outputs": [],
   "source": []
  }
 ],
 "metadata": {
  "kernelspec": {
   "display_name": "Python 3 (ipykernel)",
   "language": "python",
   "name": "python3"
  },
  "language_info": {
   "codemirror_mode": {
    "name": "ipython",
    "version": 3
   },
   "file_extension": ".py",
   "mimetype": "text/x-python",
   "name": "python",
   "nbconvert_exporter": "python",
   "pygments_lexer": "ipython3",
   "version": "3.11.10"
  }
 },
 "nbformat": 4,
 "nbformat_minor": 5
}
