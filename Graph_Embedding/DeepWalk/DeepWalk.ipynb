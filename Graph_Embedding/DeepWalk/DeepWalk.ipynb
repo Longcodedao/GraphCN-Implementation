{
 "cells": [
  {
   "cell_type": "markdown",
   "id": "2c71b504-f788-4930-9253-da060877d885",
   "metadata": {},
   "source": [
    "# Try with DeepWalk Algorithm"
   ]
  },
  {
   "cell_type": "code",
   "execution_count": 18,
   "id": "00168391-cad8-44f8-9a97-aff7a524ec26",
   "metadata": {},
   "outputs": [
    {
     "name": "stdout",
     "output_type": "stream",
     "text": [
      "Collecting matplotlib\n",
      "  Downloading matplotlib-3.9.3-cp311-cp311-manylinux_2_17_x86_64.manylinux2014_x86_64.whl.metadata (11 kB)\n",
      "Collecting contourpy>=1.0.1 (from matplotlib)\n",
      "  Downloading contourpy-1.3.1-cp311-cp311-manylinux_2_17_x86_64.manylinux2014_x86_64.whl.metadata (5.4 kB)\n",
      "Collecting cycler>=0.10 (from matplotlib)\n",
      "  Downloading cycler-0.12.1-py3-none-any.whl.metadata (3.8 kB)\n",
      "Collecting fonttools>=4.22.0 (from matplotlib)\n",
      "  Downloading fonttools-4.55.0-cp311-cp311-manylinux_2_17_x86_64.manylinux2014_x86_64.whl.metadata (164 kB)\n",
      "Collecting kiwisolver>=1.3.1 (from matplotlib)\n",
      "  Downloading kiwisolver-1.4.7-cp311-cp311-manylinux_2_17_x86_64.manylinux2014_x86_64.whl.metadata (6.3 kB)\n",
      "Requirement already satisfied: numpy>=1.23 in /opt/conda/lib/python3.11/site-packages (from matplotlib) (2.1.2)\n",
      "Requirement already satisfied: packaging>=20.0 in /opt/conda/lib/python3.11/site-packages (from matplotlib) (24.1)\n",
      "Requirement already satisfied: pillow>=8 in /opt/conda/lib/python3.11/site-packages (from matplotlib) (10.2.0)\n",
      "Collecting pyparsing>=2.3.1 (from matplotlib)\n",
      "  Downloading pyparsing-3.2.0-py3-none-any.whl.metadata (5.0 kB)\n",
      "Requirement already satisfied: python-dateutil>=2.7 in /opt/conda/lib/python3.11/site-packages (from matplotlib) (2.9.0.post0)\n",
      "Requirement already satisfied: six>=1.5 in /opt/conda/lib/python3.11/site-packages (from python-dateutil>=2.7->matplotlib) (1.16.0)\n",
      "Downloading matplotlib-3.9.3-cp311-cp311-manylinux_2_17_x86_64.manylinux2014_x86_64.whl (8.3 MB)\n",
      "\u001b[2K   \u001b[90m━━━━━━━━━━━━━━━━━━━━━━━━━━━━━━━━━━━━━━━━\u001b[0m \u001b[32m8.3/8.3 MB\u001b[0m \u001b[31m33.5 MB/s\u001b[0m eta \u001b[36m0:00:00\u001b[0ma \u001b[36m0:00:01\u001b[0m\n",
      "\u001b[?25hDownloading contourpy-1.3.1-cp311-cp311-manylinux_2_17_x86_64.manylinux2014_x86_64.whl (326 kB)\n",
      "Downloading cycler-0.12.1-py3-none-any.whl (8.3 kB)\n",
      "Downloading fonttools-4.55.0-cp311-cp311-manylinux_2_17_x86_64.manylinux2014_x86_64.whl (4.9 MB)\n",
      "\u001b[2K   \u001b[90m━━━━━━━━━━━━━━━━━━━━━━━━━━━━━━━━━━━━━━━━\u001b[0m \u001b[32m4.9/4.9 MB\u001b[0m \u001b[31m26.2 MB/s\u001b[0m eta \u001b[36m0:00:00\u001b[0m\n",
      "\u001b[?25hDownloading kiwisolver-1.4.7-cp311-cp311-manylinux_2_17_x86_64.manylinux2014_x86_64.whl (1.4 MB)\n",
      "\u001b[2K   \u001b[90m━━━━━━━━━━━━━━━━━━━━━━━━━━━━━━━━━━━━━━━━\u001b[0m \u001b[32m1.4/1.4 MB\u001b[0m \u001b[31m20.7 MB/s\u001b[0m eta \u001b[36m0:00:00\u001b[0m\n",
      "\u001b[?25hDownloading pyparsing-3.2.0-py3-none-any.whl (106 kB)\n",
      "Installing collected packages: pyparsing, kiwisolver, fonttools, cycler, contourpy, matplotlib\n",
      "Successfully installed contourpy-1.3.1 cycler-0.12.1 fonttools-4.55.0 kiwisolver-1.4.7 matplotlib-3.9.3 pyparsing-3.2.0\n",
      "\u001b[33mWARNING: Running pip as the 'root' user can result in broken permissions and conflicting behaviour with the system package manager, possibly rendering your system unusable.It is recommended to use a virtual environment instead: https://pip.pypa.io/warnings/venv. Use the --root-user-action option if you know what you are doing and want to suppress this warning.\u001b[0m\u001b[33m\n",
      "\u001b[0m"
     ]
    }
   ],
   "source": [
    "!pip install matplotlib"
   ]
  },
  {
   "cell_type": "code",
   "execution_count": 19,
   "id": "df698bda-37d6-40d1-8de2-33f33c71c60d",
   "metadata": {},
   "outputs": [],
   "source": [
    "import numpy as np\n",
    "import networkx as nx\n",
    "import threading\n",
    "import torch.nn as nn\n",
    "import torch.optim as optim\n",
    "import torch\n",
    "from torch.utils.data import Dataset, DataLoader\n",
    "\n",
    "import matplotlib.pyplot as plt\n",
    "from concurrent.futures import ThreadPoolExecutor"
   ]
  },
  {
   "cell_type": "markdown",
   "id": "05be39dd-b88f-4c49-86a6-9c1ea8fea9d3",
   "metadata": {},
   "source": [
    "Create a customed Graph"
   ]
  },
  {
   "cell_type": "code",
   "execution_count": 20,
   "id": "aebeb046-4442-4442-8b05-d7c6fe609254",
   "metadata": {},
   "outputs": [],
   "source": [
    "class Graph:\n",
    "    def __init__(self, graph_dict = None, directed = False):\n",
    "        self.graph_dict = graph_dict or {}\n",
    "        self.directed = directed\n",
    "        self.lock = threading.Lock()\n",
    "\n",
    "        if not directed:\n",
    "            self.make_undirected()\n",
    "\n",
    "    def get_vertices(self):\n",
    "        return list(self.graph_dict.keys())\n",
    "\n",
    "    def make_adjacency_matrix(self):\n",
    "        vertices = list(self.graph_dict.keys())\n",
    "        shape_matrix = len(vertices)\n",
    "        adj_matrix = np.zeros((shape_matrix, shape_matrix))\n",
    "\n",
    "        for i in range(shape_matrix):\n",
    "            for j in range(shape_matrix):\n",
    "                if vertices[j] in self.graph_dict[vertices[i]]:\n",
    "                    adj_matrix[i][j] = 1\n",
    "\n",
    "        return adj_matrix\n",
    "\n",
    "\n",
    "    def add_vertices(self, vertex):\n",
    "        if vertex not in self.graph_dict:\n",
    "            self.graph_dict[vertex] = []\n",
    "\n",
    "    def add_edges(self, vertex1, vertex2):\n",
    "        self.add_vertices(vertex1)\n",
    "        self.add_vertices(vertex2)\n",
    "        self.graph_dict[vertex1].append(vertex2)\n",
    "\n",
    "        if not self.directed:\n",
    "            self.graph_dict[vertex2].append(vertex1)\n",
    "\n",
    "    def make_undirected(self):\n",
    "        for vertex in self.graph_dict:\n",
    "            for neighbor in self.graph_dict[vertex]:\n",
    "                if vertex not in self.graph_dict[neighbor]:\n",
    "                    self.graph_dict[neighbor].append(vertex)\n",
    "\n",
    "    def to_networkx(self):\n",
    "        if self.directed:\n",
    "            G_nx = nx.DiGraph()\n",
    "        else:\n",
    "            G_nx = nx.Graph()\n",
    "\n",
    "        for vertex, neighbors in self.graph_dict.items():\n",
    "            G_nx.add_node(vertex)\n",
    "            for neighbor in neighbors:\n",
    "                G_nx.add_edge(vertex, neighbor)\n",
    "\n",
    "        return G_nx\n",
    "\n",
    "    def __str__(self):\n",
    "        return str(self.graph_dict)\n",
    "\n"
   ]
  },
  {
   "cell_type": "code",
   "execution_count": 81,
   "id": "54d2ce3f-c522-4839-9be0-f56cf9b35036",
   "metadata": {},
   "outputs": [
    {
     "name": "stdout",
     "output_type": "stream",
     "text": [
      "{'A': ['B', 'C', 'P', 'D'], 'B': ['A', 'D', 'E'], 'C': ['A', 'F', 'G'], 'D': ['B', 'H', 'A'], 'E': ['B', 'I', 'H'], 'F': ['C', 'J', 'I'], 'G': ['C', 'K', 'J'], 'H': ['D', 'L', 'E', 'K'], 'I': ['E', 'M', 'F'], 'J': ['F', 'N', 'G'], 'K': ['G', 'O', 'H'], 'L': ['H', 'P'], 'M': ['I', 'N'], 'N': ['J', 'M', 'O'], 'O': ['K', 'N', 'P'], 'P': ['L', 'O', 'A']}\n"
     ]
    }
   ],
   "source": [
    "# G = Graph()\n",
    "# G.add_vertices('A')\n",
    "# G.add_vertices('B')\n",
    "# G.add_vertices('C')\n",
    "# G.add_vertices('D')\n",
    "# G.add_vertices('E')\n",
    "# G.add_vertices('F')\n",
    "# G.add_vertices('G')\n",
    "# G.add_vertices('H')\n",
    "# G.add_edges('A', 'B')\n",
    "# G.add_edges('A', 'C')\n",
    "# G.add_edges('B', 'D')\n",
    "# G.add_edges('C', 'E')\n",
    "# G.add_edges('D', 'E')\n",
    "# G.add_edges('D', 'F')\n",
    "# G.add_edges('E', 'F')\n",
    "# G.add_edges('E', 'G')\n",
    "# G.add_edges('F', 'H')\n",
    "# G.add_edges('G', 'H')\n",
    "# G.add_edges('H', 'A')\n",
    "# G.add_edges('H', 'B')\n",
    "# G.add_edges('H', 'C')\n",
    "\n",
    "\n",
    "# print(G.graph_dict)\n",
    "\n",
    "# Create the graph\n",
    "G = Graph()\n",
    "\n",
    "# Add 16 vertices\n",
    "for vertex in 'ABCDEFGHIJKLMNOP':\n",
    "    G.add_vertices(vertex)\n",
    "\n",
    "# Add edges between vertices\n",
    "edges = [\n",
    "    ('A', 'B'), ('A', 'C'), ('B', 'D'), ('B', 'E'), \n",
    "    ('C', 'F'), ('C', 'G'), ('D', 'H'), ('E', 'I'), \n",
    "    ('F', 'J'), ('G', 'K'), ('H', 'L'), ('I', 'M'), \n",
    "    ('J', 'N'), ('K', 'O'), ('L', 'P'), ('M', 'N'), \n",
    "    ('N', 'O'), ('O', 'P'), ('P', 'A'), ('A', 'D'),\n",
    "    ('E', 'H'), ('F', 'I'), ('G', 'J'), ('H', 'K')\n",
    "]\n",
    "\n",
    "for edge in edges:\n",
    "    G.add_edges(*edge)\n",
    "\n",
    "# Print the graph dictionary\n",
    "print(G.graph_dict)"
   ]
  },
  {
   "cell_type": "code",
   "execution_count": 82,
   "id": "91ab792d-6d07-4a57-9deb-435e221554a7",
   "metadata": {},
   "outputs": [
    {
     "name": "stdout",
     "output_type": "stream",
     "text": [
      "[[0. 1. 1. 1. 0. 0. 0. 0. 0. 0. 0. 0. 0. 0. 0. 1.]\n",
      " [1. 0. 0. 1. 1. 0. 0. 0. 0. 0. 0. 0. 0. 0. 0. 0.]\n",
      " [1. 0. 0. 0. 0. 1. 1. 0. 0. 0. 0. 0. 0. 0. 0. 0.]\n",
      " [1. 1. 0. 0. 0. 0. 0. 1. 0. 0. 0. 0. 0. 0. 0. 0.]\n",
      " [0. 1. 0. 0. 0. 0. 0. 1. 1. 0. 0. 0. 0. 0. 0. 0.]\n",
      " [0. 0. 1. 0. 0. 0. 0. 0. 1. 1. 0. 0. 0. 0. 0. 0.]\n",
      " [0. 0. 1. 0. 0. 0. 0. 0. 0. 1. 1. 0. 0. 0. 0. 0.]\n",
      " [0. 0. 0. 1. 1. 0. 0. 0. 0. 0. 1. 1. 0. 0. 0. 0.]\n",
      " [0. 0. 0. 0. 1. 1. 0. 0. 0. 0. 0. 0. 1. 0. 0. 0.]\n",
      " [0. 0. 0. 0. 0. 1. 1. 0. 0. 0. 0. 0. 0. 1. 0. 0.]\n",
      " [0. 0. 0. 0. 0. 0. 1. 1. 0. 0. 0. 0. 0. 0. 1. 0.]\n",
      " [0. 0. 0. 0. 0. 0. 0. 1. 0. 0. 0. 0. 0. 0. 0. 1.]\n",
      " [0. 0. 0. 0. 0. 0. 0. 0. 1. 0. 0. 0. 0. 1. 0. 0.]\n",
      " [0. 0. 0. 0. 0. 0. 0. 0. 0. 1. 0. 0. 1. 0. 1. 0.]\n",
      " [0. 0. 0. 0. 0. 0. 0. 0. 0. 0. 1. 0. 0. 1. 0. 1.]\n",
      " [1. 0. 0. 0. 0. 0. 0. 0. 0. 0. 0. 1. 0. 0. 1. 0.]]\n"
     ]
    }
   ],
   "source": [
    "adj_matrix = G.make_adjacency_matrix()\n",
    "print(adj_matrix)"
   ]
  },
  {
   "cell_type": "code",
   "execution_count": 83,
   "id": "a6b7b58b-10fe-4780-912c-46b9b1980260",
   "metadata": {},
   "outputs": [
    {
     "name": "stdout",
     "output_type": "stream",
     "text": [
      "['A', 'B', 'C', 'P', 'D', 'E', 'F', 'G', 'H', 'I', 'J', 'K', 'L', 'M', 'N', 'O']\n",
      "[('A', 'B'), ('A', 'C'), ('A', 'P'), ('A', 'D'), ('B', 'D'), ('B', 'E'), ('C', 'F'), ('C', 'G'), ('P', 'L'), ('P', 'O'), ('D', 'H'), ('E', 'I'), ('E', 'H'), ('F', 'J'), ('F', 'I'), ('G', 'K'), ('G', 'J'), ('H', 'L'), ('H', 'K'), ('I', 'M'), ('J', 'N'), ('K', 'O'), ('M', 'N'), ('N', 'O')]\n"
     ]
    }
   ],
   "source": [
    "g_nx = G.to_networkx()\n",
    "print(g_nx.nodes)\n",
    "print(g_nx.edges)"
   ]
  },
  {
   "cell_type": "code",
   "execution_count": 84,
   "id": "104391c9-e03d-4893-a67b-2d76fa4c7dc7",
   "metadata": {},
   "outputs": [
    {
     "data": {
      "image/png": "[encoded data removed]",
      "text/plain": [
       "<Figure size 800x600 with 1 Axes>"
      ]
     },
     "metadata": {},
     "output_type": "display_data"
    }
   ],
   "source": [
    "# Visualize the graph using networkx\n",
    "plt.figure(figsize=(8, 6))\n",
    "nx.draw(g_nx, with_labels=True, node_color='skyblue',\n",
    "        node_size=1500, edge_color='gray', font_size=12, font_weight='bold')\n",
    "plt.title(\"Graph Visualization using networkx\", fontsize=16)\n",
    "plt.show()"
   ]
  },
  {
   "cell_type": "markdown",
   "id": "ae6e4729-2bad-46ab-84af-380e72599769",
   "metadata": {},
   "source": [
    "## Random Walk Algorithm\n",
    "\n",
    "The random walk in DeepWalk generates sequences of nodes (analogous to sentences in NLP). These sequences capture the graph's local and global structure, which are then used for training a Skip-gram model to generate embeddings. The sequences of nodes are chosen randomly from the neighbor \n",
    "of the current node and repeat until reaches the specified length \n",
    "\n",
    "### Steps in Random Walk for DeepWalk\n",
    "\n",
    "1. **Graph Initialization**  \n",
    "   Input is an undirected graph $(G = (V, E))$, where $V$ represents nodes, and $E$ represents edges.\n",
    "\n",
    "2. **Random Walk Parameters**  \n",
    "   - **Walk length  $l$**: The number of steps in each random walk.\n",
    "   - **Number of walks per node $k$**: How many walks to start from each node.\n",
    "   - **Transition probabilities**: Uniform for a basic random walk, meaning all neighbors have an equal chance of being chosen.\n",
    "\n",
    "3. **Generate Random Walks**  \n",
    "   For each node $v_i \\in V$:\n",
    "   - Start a random walk at $v_i$.\n",
    "   - At each step, choose $v_k$ to a randomly chosen neighbor of the current node, for which $k \\in \\mathcal{N}(v_i)$ and the set $\\mathcal{N}(v_i)$ is the neighborhood of the vertex $v_i$.\n",
    "   - Continue until the walk reaches the specified length $l$.\n",
    "   \n",
    "   This generates a corpus of random walks (node sequences).\n",
    "\n",
    "4. **Train Skip-gram Model**  \n",
    "   Treat the random walks as a \"text corpus\" and train a Skip-gram model (e.g., from Word2Vec) to learn node embeddings.\n",
    "\n",
    "---"
   ]
  },
  {
   "cell_type": "code",
   "execution_count": 85,
   "id": "99a3b434-cce5-402a-ae7e-5651051934e9",
   "metadata": {},
   "outputs": [
    {
     "name": "stdout",
     "output_type": "stream",
     "text": [
      "{'A': ['A', np.str_('P'), np.str_('L'), np.str_('H'), np.str_('E')], 'B': ['B', np.str_('E'), np.str_('H'), np.str_('K'), np.str_('O')], 'C': ['C', np.str_('A'), np.str_('D'), np.str_('B'), np.str_('A')], 'D': ['D', np.str_('A'), np.str_('B'), np.str_('D'), np.str_('B')], 'E': ['E', np.str_('I'), np.str_('M'), np.str_('N'), np.str_('O')], 'F': ['F', np.str_('C'), np.str_('F'), np.str_('I'), np.str_('F')], 'G': ['G', np.str_('C'), np.str_('G'), np.str_('C'), np.str_('A')], 'H': ['H', np.str_('E'), np.str_('H'), np.str_('E'), np.str_('B')]}\n"
     ]
    }
   ],
   "source": [
    "# The algorithm of the Random Algorithm \n",
    "def random_walk(graph, start_vertex, num_steps):\n",
    "    \"\"\"\n",
    "    Performs a random walk on a graph starting from a specified vertex.\n",
    "\n",
    "    Parameters\n",
    "    ----------\n",
    "    graph: Graph object\n",
    "        The graph containing nodes (vertices) and edges.\n",
    "    start_vertex: Any\n",
    "        The starting node for the random walk.\n",
    "    num_steps: int\n",
    "        The number of steps the random walk should take.\n",
    "\n",
    "    Returns\n",
    "    -------\n",
    "    traverse_path: list\n",
    "        A list of nodes visited during the random walk.\n",
    "\n",
    "    Raises\n",
    "    ------\n",
    "    ValueError\n",
    "        If the start_vertex is not a valid node in the graph.\n",
    "    \"\"\"\n",
    "    if start_vertex not in graph.graph_dict:\n",
    "        return ValueError(\"Start vertex not in graph\")\n",
    "\n",
    "    current_vertex = start_vertex\n",
    "    traverse_path = [current_vertex]\n",
    "\n",
    "    for _ in range(num_steps):\n",
    "        neighbors = graph.graph_dict[current_vertex]\n",
    "\n",
    "        if not neighbors:\n",
    "            break\n",
    "\n",
    "        next_step = np.random.choice(neighbors)    \n",
    "        traverse_path.append(next_step)\n",
    "        current_vertex = next_step\n",
    "\n",
    "    return traverse_path\n",
    "\n",
    "\n",
    "# Conducting the algorithm with multi-threading to improve the performance of the model\n",
    "def random_walk_multi(graph, start_vertices, num_steps, num_threads = 4):\n",
    "    results = {}\n",
    "\n",
    "    def worker(start_vertex):\n",
    "        path = random_walk(graph, start_vertex, num_steps)\n",
    "        with graph.lock:\n",
    "            results[start_vertex] = path\n",
    "\n",
    "    with ThreadPoolExecutor(max_workers = num_threads) as executor:\n",
    "        executor.map(worker, start_vertices)\n",
    "\n",
    "    return results\n",
    "\n",
    "\n",
    "start_vertices = ['A', 'B', 'C', 'D', 'E', 'F', 'G', 'H']\n",
    "num_steps = 4\n",
    "num_threads = 4\n",
    "\n",
    "result_paths = random_walk_multi(G, start_vertices, num_steps, num_threads)\n",
    "print(result_paths)"
   ]
  },
  {
   "cell_type": "markdown",
   "id": "c4bfbd92-39b7-4103-af07-a19b5b150666",
   "metadata": {},
   "source": [
    "## Implementing the DeepWalk algorithm\n",
    "\n",
    "These random walks sequences can be thought as the basic phrases or sentences of the graph. We can take the direct analogy to the concept of Word2Vec, which estimate the likelihood of observing the vertex $v_i$ given the the neighboring vertex $v_k$. However, the goal is to learn the latent representation $\\Phi \\in \\mathbb{R}^{|V| \\times d}$. The mapping $\\Phi : v_i \\in \\mathbb{R} \\rightarrow \\mathbb{R}^{d}$ is the social representation of the vertex $v_i$.\n",
    "\n",
    "The problem then to estimate the likelihood:\n",
    "\n",
    "$$Pr(v_i | (\\Phi(v_1), \\Phi(v_2). \\dots, \\Phi(v_{i - 1}))$$\n",
    "\n",
    "However, as the length of walk increases, computing the equation above is unfeasible. Hence, we have:\n",
    "- Use 1 word to predict the context\n",
    "- The context are the words in the left or in the right of the targeted word\n",
    "- Removes the ordering constraint\n",
    "\n",
    "Which is equivalent to the optimization problem below \n",
    "$$\\underset{\\Phi}{\\text{minimize}} \\quad - \\log \\Pr\\left(\\{v_{i-w}, \\cdots, v_{i-1}, v_{i+1}, \\cdots, v_{i+w}\\} \\mid \\Phi(v_i)\\right)$$\n",
    "\n",
    "Solving this optimization captures the shared similarities in the local graph structure between vertices. It can be viewed as the sum of probabilities $P(v_k | v_i)$, which helps accelerate training. This process is known as the Skip-Gram Algorithm, a key component of the Word2Vec algorithm used in Natural Language Processing (NLP)"
   ]
  },
  {
   "cell_type": "markdown",
   "id": "8b8a84c6-1458-4bd7-bb23-994b657cc9e2",
   "metadata": {},
   "source": [
    "### Skip-Gram Algorithm"
   ]
  },
  {
   "cell_type": "markdown",
   "id": "e060e0e1-f1a9-4976-baf2-ee1a53e777fb",
   "metadata": {},
   "source": [
    "Once random walks are generated, DeepWalk applies the Skip-gram model to these sequences. In the context of DeepWalk, the Skip-gram model learns to predict the context nodes (neighbors) of a target node within a fixed-size window, based on the random walk sequences.\n",
    "\n",
    "Given a random walk sequence:\n",
    "\n",
    "$v_i, v_j, v_k, v_l, \\dots$\n",
    "\n",
    "For each node $v_i$ in the sequence, the Skip-gram model will learn to predict the neighboring nodes $v_i, v_j, v_k, v_l, \\dots$ as its context within a fixed-size window.\n",
    "\n",
    "Mathematically, the Skip-gram model tries to maximize the likelihood of observing the context nodes given the target node, which is the same objective as in the Word2Vec Skip-gram model:\n",
    "\n",
    "$$P(v_j | v_i) = \\frac{\\exp(\\Phi(v_i)^T \\cdot \\Phi(v_j))}{\\sum_{v_k \\in V} \\exp(\\Phi(v_i)^T \\cdot \\Phi(v_k))}$$\n",
    "\n",
    "\n",
    "\n",
    "\n",
    "Where:\n",
    "\n",
    "- $\\Phi(v_i)$ is the vector embedding of node $v_i$\n",
    "- $\\Phi(v_j)$ is the vector embedding of the context node $v_j$\n",
    "- $V$ is the set of all nodes in the graph."
   ]
  },
  {
   "cell_type": "code",
   "execution_count": 86,
   "id": "e7e9f395-5d7e-4360-a6e7-583d33aaf50f",
   "metadata": {},
   "outputs": [],
   "source": [
    "def skipgram_algorithm(all_walks, window_size):\n",
    "\n",
    "    training_data = []\n",
    "    for walk in all_walks:\n",
    "        for i in range(len(walk)):\n",
    "            center_vertex = walk[i]\n",
    "\n",
    "            left_start = max(0, i - window_size)\n",
    "            right_end = min(len(walk), i + window_size + 1)\n",
    "            for j in range(left_start, right_end):\n",
    "                if i != j:\n",
    "                    training_data.append((center_vertex, walk[j]))\n",
    "    return training_data\n"
   ]
  },
  {
   "cell_type": "code",
   "execution_count": 87,
   "id": "873e54c4-14f8-4f0b-9209-21ef055ada25",
   "metadata": {},
   "outputs": [],
   "source": [
    "class DeepWalk(nn.Module):\n",
    "    def __init__(self, num_nodes, embedding_dim):\n",
    "        super(DeepWalk, self).__init__()\n",
    "        self.embeddings = nn.Embedding(num_nodes, embedding_dim)\n",
    "        # self.output_layer = nn.Linear(embedding_dim, num_nodes, bias = False)\n",
    "\n",
    "    def forward(self, center, context):\n",
    "        # return self.output_layer(self.embeddings(input_walks))\n",
    "\n",
    "        center_embed = self.embeddings(center)\n",
    "        context_embed = self.embeddings(context)\n",
    "\n",
    "        # Applying log-sum-exp trick to solve the overflow problem\n",
    "        result = torch.matmul(center_embed, context_embed.T) # (B, 1)\n",
    "        all_logits = torch.matmul(center_embed, self.embeddings.weight.T) # (B, Vocab_size)\n",
    "\n",
    "        max_logits, _ = torch.max(all_logits, dim = 1, keepdim = True)\n",
    "        log_sum_exp = max_logits + torch.log(torch.sum(torch.exp(all_logits - max_logits), dim=1, keepdim=True))\n",
    "\n",
    "        log_prob = result - log_sum_exp\n",
    "\n",
    "        return log_prob"
   ]
  },
  {
   "cell_type": "markdown",
   "id": "8dccd0bf-2a36-4563-ab5c-643ab35d857a",
   "metadata": {},
   "source": [
    "### Hierarchical Softmax"
   ]
  },
  {
   "cell_type": "code",
   "execution_count": 143,
   "id": "746184f9-d94c-45e5-89e1-e39e8bdf5d27",
   "metadata": {},
   "outputs": [
    {
     "name": "stdout",
     "output_type": "stream",
     "text": [
      "tensor([4, 4, 4, 4, 4, 4, 4, 4, 4, 4, 4, 4, 4, 4, 4, 4, 4, 4, 4, 4, 4, 4, 4, 4,\n",
      "        4, 4, 4, 4, 4, 4, 4, 4], device='cuda:0')\n"
     ]
    }
   ],
   "source": [
    "# def length_binary_tree(node):\n",
    "#     count = 0\n",
    "#     print(node)\n",
    "#     while (node > 1):\n",
    "#         node //= 2\n",
    "#         count += 1\n",
    "#     return count\n",
    "\n",
    "def length_binary_tree_tensors(nodes):\n",
    "    count = torch.zeros_like(nodes)\n",
    "    while torch.any(nodes > 1):\n",
    "        nodes = nodes // 2\n",
    "        count += (nodes > 0).int()\n",
    "\n",
    "    return count\n",
    "\n",
    "# Example tensor input\n",
    "nodes = torch.tensor(\n",
    "    [23, 30, 24, 16, 28, 31, 31, 16, 31, 31, 30, 24, 25, 28, 27, 21, \n",
    "     29, 20, 26, 23, 30, 27, 29, 30, 17, 20, 30, 27, 22, 16, 17, 20], \n",
    "    device='cuda:0'\n",
    ")\n",
    "\n",
    "# Calculate lengths for each node\n",
    "lengths = length_binary_tree_tensors(nodes)\n",
    "print(lengths)\n",
    "\n",
    "# length_binary_tree(6)"
   ]
  },
  {
   "cell_type": "code",
   "execution_count": 161,
   "id": "5585482f-65c2-47c2-8216-0644f2460102",
   "metadata": {},
   "outputs": [
    {
     "name": "stdout",
     "output_type": "stream",
     "text": [
      "tensor([[23, 11,  5,  2,  1],\n",
      "        [30, 15,  7,  3,  1],\n",
      "        [24, 12,  6,  3,  1],\n",
      "        [16,  8,  4,  2,  1],\n",
      "        [28, 14,  7,  3,  1]])\n",
      "Path for node 1: tensor([23, 11,  5,  2,  1])\n",
      "Path for node 2: tensor([30, 15,  7,  3,  1])\n",
      "Path for node 3: tensor([24, 12,  6,  3,  1])\n",
      "Path for node 4: tensor([16,  8,  4,  2,  1])\n",
      "Path for node 5: tensor([28, 14,  7,  3,  1])\n"
     ]
    }
   ],
   "source": [
    "def path_binary_tree_tensors(nodes):\n",
    "    max_steps = torch.floor(torch.log2(nodes.float())).int() + 1  # Maximum path length for each node\n",
    "    batch_size = len(nodes)\n",
    "    \n",
    "    paths = torch.zeros((batch_size, max_steps.max()), device=nodes.device, dtype=torch.int)\n",
    "    \n",
    "    for i in range(max_steps.max()):\n",
    "        paths[:, i] = nodes\n",
    "        nodes = nodes // 2  # Update nodes by dividing by 2\n",
    "        nodes[nodes < 1] = 0  # Stop updating for nodes <= 1\n",
    "    \n",
    "    # Remove trailing zeros for each row\n",
    "    path_lengths = max_steps\n",
    "    # print(paths)\n",
    "    trimmed_paths = torch.tensor([paths[i, :path_lengths[i]].tolist() for i in range(batch_size)])\n",
    "    return trimmed_paths\n",
    "\n",
    "\n",
    "nodes = torch.tensor([23, 30, 24, 16, 28], device='cuda:0')\n",
    "paths = path_binary_tree_tensors(nodes)\n",
    "print(paths)\n",
    "for i, path in enumerate(paths):\n",
    "    print(f\"Path for node {i+1}: {path}\")"
   ]
  },
  {
   "cell_type": "code",
   "execution_count": 234,
   "id": "1a3ec21b-04b8-4326-a197-ba1de2d21de4",
   "metadata": {},
   "outputs": [],
   "source": [
    "class DeepWalk_HierSoftmax(nn.Module):\n",
    "    def __init__(self, num_nodes, embedding_dim):\n",
    "        super(DeepWalk_HierSoftmax, self).__init__()\n",
    "        self.num_nodes = num_nodes\n",
    "        self.embeddings = nn.Embedding(num_nodes, embedding_dim)\n",
    "        self.probs_tensor = nn.Parameter(torch.rand(2 * num_nodes, embedding_dim), \n",
    "                                         requires_grad = True)\n",
    "\n",
    "    def length_binary_tree_tensors(self, nodes):\n",
    "        count = torch.zeros_like(nodes)\n",
    "        while torch.any(nodes > 1):\n",
    "            nodes = nodes // 2\n",
    "            count += (nodes > 0).int()\n",
    "    \n",
    "        return count\n",
    "\n",
    "    def path_binary_tree_tensors(self, nodes):\n",
    "        max_steps = torch.floor(torch.log2(nodes.float())).int() + 1  # Maximum path length for each node\n",
    "        batch_size = len(nodes)\n",
    "        \n",
    "        paths = torch.zeros((batch_size, max_steps.max()), device=nodes.device, dtype=torch.int)\n",
    "        \n",
    "        for i in range(max_steps.max()):\n",
    "            paths[:, i] = nodes\n",
    "            nodes = nodes // 2  # Update nodes by dividing by 2\n",
    "            nodes[nodes < 1] = 0  # Stop updating for nodes <= 1\n",
    "        \n",
    "        # Remove trailing zeros for each row\n",
    "        path_lengths = max_steps\n",
    "        # print(paths)\n",
    "        trimmed_paths = torch.tensor([paths[i, :path_lengths[i]].tolist() for i in range(batch_size)])\n",
    "        \n",
    "        return trimmed_paths\n",
    "\n",
    "\n",
    "    def forward(self, center, context):\n",
    "        embed_center = self.embeddings(center)\n",
    "        # print(f'shape of embed_center : {embed_center.shape}')\n",
    "        context_node = self.num_nodes + context\n",
    "        \n",
    "        length_binary = self.length_binary_tree_tensors(context_node)\n",
    "        path_bin_tree = self.path_binary_tree_tensors(context_node)\n",
    "\n",
    "        # Prepare paths as a padded tensor\n",
    "        max_path_len = length_binary.max()\n",
    "    \n",
    "        # print(max_path_len)\n",
    "        logp = torch.zeros((len(context_node), 1), device=context_node.device)\n",
    "        for i in range(1, max_path_len):\n",
    "            # Extract the current level's nodes\n",
    "            nodes = path_bin_tree[:, i]\n",
    "    \n",
    "            # Compute signs based on node parity\n",
    "            signs = torch.where(nodes % 2 == 0, 1.0, -1.0).unsqueeze(1).to(context_node.device)\n",
    "\n",
    "            # print(torch.matmul(self.probs_tensor[nodes], embed_center.T).shape)\n",
    "\n",
    "            dot_product = torch.sum(self.probs_tensor[nodes] * embed_center, dim = 1, keepdim = True)\n",
    "\n",
    "            probs = torch.sigmoid(signs * dot_product)\n",
    "            \n",
    "            # probs = torch.sigmoid(signs * torch.matmul(self.probs_tensor[nodes], embed_center.T))\n",
    "            # print(probs)\n",
    "            log_probs = torch.log(probs)\n",
    "            logp += log_probs  # Aggregate probabilities for the batch\n",
    "            \n",
    "        return -logp\n"
   ]
  },
  {
   "cell_type": "code",
   "execution_count": 237,
   "id": "f6733d59-33d0-4848-8732-8a15a96b8a3b",
   "metadata": {},
   "outputs": [
    {
     "data": {
      "text/plain": [
       "tensor(8.2575, device='cuda:0', grad_fn=<MeanBackward0>)"
      ]
     },
     "execution_count": 237,
     "metadata": {},
     "output_type": "execute_result"
    }
   ],
   "source": [
    "total_loss = neg_logp.mean()\n",
    "total_loss"
   ]
  },
  {
   "cell_type": "code",
   "execution_count": 230,
   "id": "f88060ba-3d0a-4755-8785-f1b4ddaf4756",
   "metadata": {},
   "outputs": [],
   "source": [
    "class DeepWalkDataset(Dataset):\n",
    "    def __init__(self, training_data, vertex_to_index):\n",
    "        self.training_data = training_data\n",
    "        self.vertex_to_index = vertex_to_index\n",
    "\n",
    "    def __len__(self):\n",
    "        return len(self.training_data)\n",
    "\n",
    "    def __getitem__(self, index):\n",
    "        center_vertex, context_vertices = self.training_data[index]\n",
    "        center_index = torch.tensor(self.vertex_to_index[center_vertex])\n",
    "        context_indices = torch.tensor(self.vertex_to_index[context_vertices])\n",
    "\n",
    "        return center_index, context_indices"
   ]
  },
  {
   "cell_type": "code",
   "execution_count": 231,
   "id": "44ed3632-44e3-4fab-9e2d-6c86ae3aa0dc",
   "metadata": {},
   "outputs": [
    {
     "name": "stdout",
     "output_type": "stream",
     "text": [
      "cuda\n"
     ]
    }
   ],
   "source": [
    "device = torch.device('cuda' if torch.cuda.is_available() else 'cpu')\n",
    "print(device)"
   ]
  },
  {
   "cell_type": "code",
   "execution_count": 260,
   "id": "8c8a178b-464c-4512-9053-72ba2d2335a9",
   "metadata": {},
   "outputs": [
    {
     "name": "stdout",
     "output_type": "stream",
     "text": [
      "Epoch: 1, Loss: 2.467649459838867\n",
      "Epoch: 2, Loss: 0.19140072166919708\n",
      "Epoch: 3, Loss: 0.06121661514043808\n",
      "Epoch: 4, Loss: 0.029992731288075447\n",
      "Epoch: 5, Loss: 0.018295640125870705\n"
     ]
    }
   ],
   "source": [
    "num_walks = 30\n",
    "walk_length = 5\n",
    "window_size = 2\n",
    "num_epochs = 5\n",
    "\n",
    "all_walks = []\n",
    "list_vertices = G.get_vertices()\n",
    "for _ in range(num_walks):\n",
    "    walks = random_walk_multi(G, list_vertices, walk_length)\n",
    "    all_walks.extend(list(walks.values()))\n",
    "\n",
    "# return all_walks\n",
    "vertex_to_index = {vertex: index for index, vertex in enumerate(list_vertices)}\n",
    "vocab_size = len(vertex_to_index)\n",
    "\n",
    "training_data = skipgram_algorithm(all_walks, window_size)\n",
    "training_data = DeepWalkDataset(training_data, vertex_to_index)\n",
    "training_loader = DataLoader(training_data, batch_size = 32, shuffle = True)\n",
    "\n",
    "deepwalk_hierarchical = DeepWalk_HierSoftmax(vocab_size, 128).to(device)\n",
    "optimizer = optim.Adam(deepwalk_hierarchical.parameters(), lr = 0.001)\n",
    "\n",
    "deepwalk_hierarchical.train()\n",
    "for epoch in range(num_epochs):\n",
    "    total_loss = 0\n",
    "    for center, context in training_loader:\n",
    "        optimizer.zero_grad()\n",
    "        center = center.to(device)\n",
    "        context = context.to(device)\n",
    "        neg_logp = deepwalk_hierarchical(center, context)\n",
    "\n",
    "        avg_logp = neg_logp.mean()\n",
    "        avg_logp.backward()\n",
    "        # for i in range(neg_logp.size(0)):\n",
    "        #     neg_logp[i].backward(retain_graph=True)  # retain_graph=True allows multiple backward passes\n",
    "\n",
    "        optimizer.step()\n",
    "        total_loss += avg_logp\n",
    "\n",
    "        # print(avg_logp)\n",
    "\n",
    "    print(f'Epoch: {epoch + 1}, Loss: {total_loss / len(training_loader)}')\n",
    "\n"
   ]
  },
  {
   "cell_type": "code",
   "execution_count": 261,
   "id": "37ebecee-bb59-486e-8989-19bc5839ecaf",
   "metadata": {},
   "outputs": [],
   "source": [
    "embedding_weight = deepwalk_hierarchical.embeddings.weight"
   ]
  },
  {
   "cell_type": "code",
   "execution_count": 265,
   "id": "83057f82-0472-4f7e-a2ba-ef84c0b9f004",
   "metadata": {},
   "outputs": [
    {
     "name": "stdout",
     "output_type": "stream",
     "text": [
      "0.0006420679274015129\n"
     ]
    }
   ],
   "source": [
    "def calculate_cosine_sim(vector_0, vector_1):\n",
    "    dot_product = torch.sum(vector_0 * vector_1)\n",
    "    \n",
    "    magnitude_0 = torch.sqrt(torch.sum(vector_0 ** 2))\n",
    "    magnitude_1 = torch.sqrt(torch.sum(vector_1 ** 2))\n",
    "        \n",
    "    cosine_similarity = dot_product / (magnitude_0 * magnitude_1)\n",
    "\n",
    "    return cosine_similarity.item()\n",
    "\n",
    "vector_0 = embedding_weight[2]  # Node B\n",
    "vector_1 = embedding_weight[3]  # Node D\n",
    "\n",
    "print(calculate_cosine_sim(vector_0, vector_1))"
   ]
  },
  {
   "cell_type": "markdown",
   "id": "94bafaa4-7aae-496b-889b-e997237090c8",
   "metadata": {},
   "source": [
    "We can measure the cosine similarity of the node `A` and node `D` to evaluate the model"
   ]
  },
  {
   "cell_type": "markdown",
   "id": "ba7c6dcc-06ad-4c52-885f-95a1f96cb347",
   "metadata": {},
   "source": [
    "## Let's try some dataset"
   ]
  },
  {
   "cell_type": "markdown",
   "id": "07214753-6c57-4a58-9558-4e4aac516ef9",
   "metadata": {},
   "source": [
    "1. BlogCatalog Dataset"
   ]
  },
  {
   "cell_type": "code",
   "execution_count": 269,
   "id": "4ee273a0-c672-4aa1-b5a4-73ef0edfbdaa",
   "metadata": {},
   "outputs": [
    {
     "name": "stdout",
     "output_type": "stream",
     "text": [
      "--2024-12-03 16:32:22--  https://datasets.syr.edu/uploads/1252092625/BlogCatalog-dataset.zip\n",
      "Resolving datasets.syr.edu (datasets.syr.edu)... 128.230.247.57\n",
      "Connecting to datasets.syr.edu (datasets.syr.edu)|128.230.247.57|:443... connected.\n",
      "WARNING: cannot verify datasets.syr.edu's certificate, issued by ‘CN=R10,O=Let's Encrypt,C=US’:\n",
      "  Issued certificate has expired.\n",
      "HTTP request sent, awaiting response... 200 OK\n",
      "Length: 13430637 (13M) [application/zip]\n",
      "Saving to: ‘BlogCatalog-dataset.zip’\n",
      "\n",
      "BlogCatalog-dataset 100%[===================>]  12.81M  44.1MB/s    in 0.3s    \n",
      "\n",
      "2024-12-03 16:32:22 (44.1 MB/s) - ‘BlogCatalog-dataset.zip’ saved [13430637/13430637]\n",
      "\n"
     ]
    }
   ],
   "source": [
    "!wget --no-check-certificate \"https://datasets.syr.edu/uploads/1252092625/BlogCatalog-dataset.zip\""
   ]
  },
  {
   "cell_type": "code",
   "execution_count": 271,
   "id": "201b978f-b80a-4bf7-8b7c-e9ddb9d79a03",
   "metadata": {},
   "outputs": [
    {
     "name": "stdout",
     "output_type": "stream",
     "text": [
      "Archive:  BlogCatalog-dataset.zip\n",
      "   creating: BlogCatalog-dataset/\n",
      "   creating: BlogCatalog-dataset/data/\n",
      "  inflating: BlogCatalog-dataset/data/edges.csv  \n",
      "  inflating: BlogCatalog-dataset/data/nodes.csv  \n",
      "  inflating: BlogCatalog-dataset/readme.txt  \n"
     ]
    }
   ],
   "source": [
    "!unzip BlogCatalog-dataset.zip"
   ]
  },
  {
   "cell_type": "code",
   "execution_count": 272,
   "id": "5d9cf845-23e2-4a63-8acb-5d420f264d5f",
   "metadata": {},
   "outputs": [
    {
     "name": "stdout",
     "output_type": "stream",
     "text": [
      "BlogCatalog-dataset  BlogCatalog-dataset.zip  DeepWalk.ipynb\n"
     ]
    }
   ],
   "source": [
    "!ls"
   ]
  },
  {
   "cell_type": "markdown",
   "id": "d1f5c9b6-77f8-4dfc-b1c2-5d88af68e935",
   "metadata": {},
   "source": [
    "Loading the dataset"
   ]
  },
  {
   "cell_type": "code",
   "execution_count": 285,
   "id": "d02c2f93-b298-4ea0-b50a-6444de2b868f",
   "metadata": {},
   "outputs": [],
   "source": [
    "import pandas as pd\n",
    "from torch.utils.data import Dataset\n",
    "import networkx as nx"
   ]
  },
  {
   "cell_type": "code",
   "execution_count": 294,
   "id": "1bdc42b9-3a9b-4ea5-bf8a-ff8f0fad601f",
   "metadata": {},
   "outputs": [],
   "source": [
    "nodes_df = pd.read_csv('BlogCatalog-dataset/data/nodes.csv',\n",
    "                   header = None, names = ['id'])\n",
    "edges_df = pd.read_csv('BlogCatalog-dataset/data/edges.csv',\n",
    "                   header = None, names = ['source', 'target'])\n",
    "\n",
    "G = nx.Graph()\n",
    "\n",
    "for _, row in nodes_df.iterrows():\n",
    "    G.add_node(row['id'])\n",
    "\n",
    "G.add_edges_from(edges_df.values)\n",
    "\n"
   ]
  },
  {
   "cell_type": "code",
   "execution_count": 295,
   "id": "70d40893-e7d2-4676-af6a-78fbc20ba0fc",
   "metadata": {},
   "outputs": [
    {
     "name": "stdout",
     "output_type": "stream",
     "text": [
      "Number of nodes: 88784\n",
      "Number of edges: 4186390\n"
     ]
    }
   ],
   "source": [
    "# Number of nodes\n",
    "print(f\"Number of nodes: {len(G.nodes)}\")\n",
    "\n",
    "# Number of edges\n",
    "print(f\"Number of edges: {len(G.edges)}\")\n",
    "\n",
    "# # List of nodes\n",
    "# print(f\"Nodes: {list(G.nodes)}\")\n",
    "\n",
    "# # List of edges\n",
    "# print(f\"Edges: {list(G.edges)}\")"
   ]
  },
  {
   "cell_type": "code",
   "execution_count": null,
   "id": "e1315da3-833f-4de7-a085-0f755b53e121",
   "metadata": {},
   "outputs": [],
   "source": []
  }
 ],
 "metadata": {
  "kernelspec": {
   "display_name": "Python 3 (ipykernel)",
   "language": "python",
   "name": "python3"
  },
  "language_info": {
   "codemirror_mode": {
    "name": "ipython",
    "version": 3
   },
   "file_extension": ".py",
   "mimetype": "text/x-python",
   "name": "python",
   "nbconvert_exporter": "python",
   "pygments_lexer": "ipython3",
   "version": "3.11.10"
  }
 },
 "nbformat": 4,
 "nbformat_minor": 5
}
