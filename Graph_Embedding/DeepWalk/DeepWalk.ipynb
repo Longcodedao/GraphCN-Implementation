{
 "cells": [
  {
   "cell_type": "markdown",
   "id": "2c71b504-f788-4930-9253-da060877d885",
   "metadata": {},
   "source": [
    "# Try with DeepWalk Algorithm"
   ]
  },
  {
   "cell_type": "code",
   "execution_count": 1,
   "id": "00168391-cad8-44f8-9a97-aff7a524ec26",
   "metadata": {},
   "outputs": [
    {
     "name": "stdout",
     "output_type": "stream",
     "text": [
      "Requirement already satisfied: matplotlib in /opt/conda/lib/python3.11/site-packages (3.9.3)\n",
      "Requirement already satisfied: contourpy>=1.0.1 in /opt/conda/lib/python3.11/site-packages (from matplotlib) (1.3.1)\n",
      "Requirement already satisfied: cycler>=0.10 in /opt/conda/lib/python3.11/site-packages (from matplotlib) (0.12.1)\n",
      "Requirement already satisfied: fonttools>=4.22.0 in /opt/conda/lib/python3.11/site-packages (from matplotlib) (4.55.2)\n",
      "Requirement already satisfied: kiwisolver>=1.3.1 in /opt/conda/lib/python3.11/site-packages (from matplotlib) (1.4.7)\n",
      "Requirement already satisfied: numpy>=1.23 in /opt/conda/lib/python3.11/site-packages (from matplotlib) (2.1.2)\n",
      "Requirement already satisfied: packaging>=20.0 in /opt/conda/lib/python3.11/site-packages (from matplotlib) (24.1)\n",
      "Requirement already satisfied: pillow>=8 in /opt/conda/lib/python3.11/site-packages (from matplotlib) (10.2.0)\n",
      "Requirement already satisfied: pyparsing>=2.3.1 in /opt/conda/lib/python3.11/site-packages (from matplotlib) (3.2.0)\n",
      "Requirement already satisfied: python-dateutil>=2.7 in /opt/conda/lib/python3.11/site-packages (from matplotlib) (2.9.0.post0)\n",
      "Requirement already satisfied: six>=1.5 in /opt/conda/lib/python3.11/site-packages (from python-dateutil>=2.7->matplotlib) (1.16.0)\n",
      "\u001b[33mWARNING: Running pip as the 'root' user can result in broken permissions and conflicting behaviour with the system package manager, possibly rendering your system unusable.It is recommended to use a virtual environment instead: https://pip.pypa.io/warnings/venv. Use the --root-user-action option if you know what you are doing and want to suppress this warning.\u001b[0m\u001b[33m\n",
      "\u001b[0m"
     ]
    }
   ],
   "source": [
    "!pip install matplotlib"
   ]
  },
  {
   "cell_type": "code",
   "execution_count": 2,
   "id": "df698bda-37d6-40d1-8de2-33f33c71c60d",
   "metadata": {},
   "outputs": [],
   "source": [
    "import numpy as np\n",
    "import networkx as nx\n",
    "import threading\n",
    "import torch.nn as nn\n",
    "import torch.optim as optim\n",
    "import torch\n",
    "from torch.utils.data import Dataset, DataLoader\n",
    "\n",
    "import matplotlib.pyplot as plt\n",
    "from concurrent.futures import ThreadPoolExecutor"
   ]
  },
  {
   "cell_type": "markdown",
   "id": "05be39dd-b88f-4c49-86a6-9c1ea8fea9d3",
   "metadata": {},
   "source": [
    "Create a customed Graph"
   ]
  },
  {
   "cell_type": "code",
   "execution_count": 3,
   "id": "aebeb046-4442-4442-8b05-d7c6fe609254",
   "metadata": {},
   "outputs": [],
   "source": [
    "class Graph:\n",
    "    def __init__(self, graph_dict = None, directed = False):\n",
    "        self.graph_dict = graph_dict or {}\n",
    "        self.directed = directed\n",
    "        self.lock = threading.Lock()\n",
    "\n",
    "        if not directed:\n",
    "            self.make_undirected()\n",
    "\n",
    "    def get_vertices(self):\n",
    "        return list(self.graph_dict.keys())\n",
    "\n",
    "    def make_adjacency_matrix(self):\n",
    "        vertices = list(self.graph_dict.keys())\n",
    "        shape_matrix = len(vertices)\n",
    "        adj_matrix = np.zeros((shape_matrix, shape_matrix))\n",
    "\n",
    "        for i in range(shape_matrix):\n",
    "            for j in range(shape_matrix):\n",
    "                if vertices[j] in self.graph_dict[vertices[i]]:\n",
    "                    adj_matrix[i][j] = 1\n",
    "\n",
    "        return adj_matrix\n",
    "\n",
    "\n",
    "    def add_vertices(self, vertex):\n",
    "        if vertex not in self.graph_dict:\n",
    "            self.graph_dict[vertex] = []\n",
    "\n",
    "    def add_edges(self, vertex1, vertex2):\n",
    "        self.add_vertices(vertex1)\n",
    "        self.add_vertices(vertex2)\n",
    "        self.graph_dict[vertex1].append(vertex2)\n",
    "\n",
    "        if not self.directed:\n",
    "            self.graph_dict[vertex2].append(vertex1)\n",
    "\n",
    "    def make_undirected(self):\n",
    "        for vertex in self.graph_dict:\n",
    "            for neighbor in self.graph_dict[vertex]:\n",
    "                if vertex not in self.graph_dict[neighbor]:\n",
    "                    self.graph_dict[neighbor].append(vertex)\n",
    "\n",
    "    def to_networkx(self):\n",
    "        if self.directed:\n",
    "            G_nx = nx.DiGraph()\n",
    "        else:\n",
    "            G_nx = nx.Graph()\n",
    "\n",
    "        for vertex, neighbors in self.graph_dict.items():\n",
    "            G_nx.add_node(vertex)\n",
    "            for neighbor in neighbors:\n",
    "                G_nx.add_edge(vertex, neighbor)\n",
    "\n",
    "        return G_nx\n",
    "\n",
    "    def __str__(self):\n",
    "        return str(self.graph_dict)\n",
    "\n"
   ]
  },
  {
   "cell_type": "code",
   "execution_count": 4,
   "id": "54d2ce3f-c522-4839-9be0-f56cf9b35036",
   "metadata": {},
   "outputs": [
    {
     "name": "stdout",
     "output_type": "stream",
     "text": [
      "{'A': ['B', 'C', 'P', 'D'], 'B': ['A', 'D', 'E'], 'C': ['A', 'F', 'G'], 'D': ['B', 'H', 'A'], 'E': ['B', 'I', 'H'], 'F': ['C', 'J', 'I'], 'G': ['C', 'K', 'J'], 'H': ['D', 'L', 'E', 'K'], 'I': ['E', 'M', 'F'], 'J': ['F', 'N', 'G'], 'K': ['G', 'O', 'H'], 'L': ['H', 'P'], 'M': ['I', 'N'], 'N': ['J', 'M', 'O'], 'O': ['K', 'N', 'P'], 'P': ['L', 'O', 'A']}\n"
     ]
    }
   ],
   "source": [
    "# G = Graph()\n",
    "# G.add_vertices('A')\n",
    "# G.add_vertices('B')\n",
    "# G.add_vertices('C')\n",
    "# G.add_vertices('D')\n",
    "# G.add_vertices('E')\n",
    "# G.add_vertices('F')\n",
    "# G.add_vertices('G')\n",
    "# G.add_vertices('H')\n",
    "# G.add_edges('A', 'B')\n",
    "# G.add_edges('A', 'C')\n",
    "# G.add_edges('B', 'D')\n",
    "# G.add_edges('C', 'E')\n",
    "# G.add_edges('D', 'E')\n",
    "# G.add_edges('D', 'F')\n",
    "# G.add_edges('E', 'F')\n",
    "# G.add_edges('E', 'G')\n",
    "# G.add_edges('F', 'H')\n",
    "# G.add_edges('G', 'H')\n",
    "# G.add_edges('H', 'A')\n",
    "# G.add_edges('H', 'B')\n",
    "# G.add_edges('H', 'C')\n",
    "\n",
    "\n",
    "# print(G.graph_dict)\n",
    "\n",
    "# Create the graph\n",
    "G = Graph()\n",
    "\n",
    "# Add 16 vertices\n",
    "for vertex in 'ABCDEFGHIJKLMNOP':\n",
    "    G.add_vertices(vertex)\n",
    "\n",
    "# Add edges between vertices\n",
    "edges = [\n",
    "    ('A', 'B'), ('A', 'C'), ('B', 'D'), ('B', 'E'), \n",
    "    ('C', 'F'), ('C', 'G'), ('D', 'H'), ('E', 'I'), \n",
    "    ('F', 'J'), ('G', 'K'), ('H', 'L'), ('I', 'M'), \n",
    "    ('J', 'N'), ('K', 'O'), ('L', 'P'), ('M', 'N'), \n",
    "    ('N', 'O'), ('O', 'P'), ('P', 'A'), ('A', 'D'),\n",
    "    ('E', 'H'), ('F', 'I'), ('G', 'J'), ('H', 'K')\n",
    "]\n",
    "\n",
    "for edge in edges:\n",
    "    G.add_edges(*edge)\n",
    "\n",
    "# Print the graph dictionary\n",
    "print(G.graph_dict)"
   ]
  },
  {
   "cell_type": "code",
   "execution_count": 5,
   "id": "91ab792d-6d07-4a57-9deb-435e221554a7",
   "metadata": {},
   "outputs": [
    {
     "name": "stdout",
     "output_type": "stream",
     "text": [
      "[[0. 1. 1. 1. 0. 0. 0. 0. 0. 0. 0. 0. 0. 0. 0. 1.]\n",
      " [1. 0. 0. 1. 1. 0. 0. 0. 0. 0. 0. 0. 0. 0. 0. 0.]\n",
      " [1. 0. 0. 0. 0. 1. 1. 0. 0. 0. 0. 0. 0. 0. 0. 0.]\n",
      " [1. 1. 0. 0. 0. 0. 0. 1. 0. 0. 0. 0. 0. 0. 0. 0.]\n",
      " [0. 1. 0. 0. 0. 0. 0. 1. 1. 0. 0. 0. 0. 0. 0. 0.]\n",
      " [0. 0. 1. 0. 0. 0. 0. 0. 1. 1. 0. 0. 0. 0. 0. 0.]\n",
      " [0. 0. 1. 0. 0. 0. 0. 0. 0. 1. 1. 0. 0. 0. 0. 0.]\n",
      " [0. 0. 0. 1. 1. 0. 0. 0. 0. 0. 1. 1. 0. 0. 0. 0.]\n",
      " [0. 0. 0. 0. 1. 1. 0. 0. 0. 0. 0. 0. 1. 0. 0. 0.]\n",
      " [0. 0. 0. 0. 0. 1. 1. 0. 0. 0. 0. 0. 0. 1. 0. 0.]\n",
      " [0. 0. 0. 0. 0. 0. 1. 1. 0. 0. 0. 0. 0. 0. 1. 0.]\n",
      " [0. 0. 0. 0. 0. 0. 0. 1. 0. 0. 0. 0. 0. 0. 0. 1.]\n",
      " [0. 0. 0. 0. 0. 0. 0. 0. 1. 0. 0. 0. 0. 1. 0. 0.]\n",
      " [0. 0. 0. 0. 0. 0. 0. 0. 0. 1. 0. 0. 1. 0. 1. 0.]\n",
      " [0. 0. 0. 0. 0. 0. 0. 0. 0. 0. 1. 0. 0. 1. 0. 1.]\n",
      " [1. 0. 0. 0. 0. 0. 0. 0. 0. 0. 0. 1. 0. 0. 1. 0.]]\n"
     ]
    }
   ],
   "source": [
    "adj_matrix = G.make_adjacency_matrix()\n",
    "print(adj_matrix)"
   ]
  },
  {
   "cell_type": "code",
   "execution_count": 6,
   "id": "a6b7b58b-10fe-4780-912c-46b9b1980260",
   "metadata": {},
   "outputs": [
    {
     "name": "stdout",
     "output_type": "stream",
     "text": [
      "['A', 'B', 'C', 'P', 'D', 'E', 'F', 'G', 'H', 'I', 'J', 'K', 'L', 'M', 'N', 'O']\n",
      "[('A', 'B'), ('A', 'C'), ('A', 'P'), ('A', 'D'), ('B', 'D'), ('B', 'E'), ('C', 'F'), ('C', 'G'), ('P', 'L'), ('P', 'O'), ('D', 'H'), ('E', 'I'), ('E', 'H'), ('F', 'J'), ('F', 'I'), ('G', 'K'), ('G', 'J'), ('H', 'L'), ('H', 'K'), ('I', 'M'), ('J', 'N'), ('K', 'O'), ('M', 'N'), ('N', 'O')]\n"
     ]
    }
   ],
   "source": [
    "g_nx = G.to_networkx()\n",
    "print(g_nx.nodes)\n",
    "print(g_nx.edges)"
   ]
  },
  {
   "cell_type": "code",
   "execution_count": 7,
   "id": "104391c9-e03d-4893-a67b-2d76fa4c7dc7",
   "metadata": {},
   "outputs": [
    {
     "data": {
      "image/png": "[encoded data removed]",
      "text/plain": [
       "<Figure size 800x600 with 1 Axes>"
      ]
     },
     "metadata": {},
     "output_type": "display_data"
    }
   ],
   "source": [
    "# Visualize the graph using networkx\n",
    "plt.figure(figsize=(8, 6))\n",
    "nx.draw(g_nx, with_labels=True, node_color='skyblue',\n",
    "        node_size=1500, edge_color='gray', font_size=12, font_weight='bold')\n",
    "plt.title(\"Graph Visualization using networkx\", fontsize=16)\n",
    "plt.show()"
   ]
  },
  {
   "cell_type": "markdown",
   "id": "ae6e4729-2bad-46ab-84af-380e72599769",
   "metadata": {},
   "source": [
    "## Random Walk Algorithm\n",
    "\n",
    "The random walk in DeepWalk generates sequences of nodes (analogous to sentences in NLP). These sequences capture the graph's local and global structure, which are then used for training a Skip-gram model to generate embeddings. The sequences of nodes are chosen randomly from the neighbor \n",
    "of the current node and repeat until reaches the specified length \n",
    "\n",
    "### Steps in Random Walk for DeepWalk\n",
    "\n",
    "1. **Graph Initialization**  \n",
    "   Input is an undirected graph $(G = (V, E))$, where $V$ represents nodes, and $E$ represents edges.\n",
    "\n",
    "2. **Random Walk Parameters**  \n",
    "   - **Walk length  $l$**: The number of steps in each random walk.\n",
    "   - **Number of walks per node $k$**: How many walks to start from each node.\n",
    "   - **Transition probabilities**: Uniform for a basic random walk, meaning all neighbors have an equal chance of being chosen.\n",
    "\n",
    "3. **Generate Random Walks**  \n",
    "   For each node $v_i \\in V$:\n",
    "   - Start a random walk at $v_i$.\n",
    "   - At each step, choose $v_k$ to a randomly chosen neighbor of the current node, for which $k \\in \\mathcal{N}(v_i)$ and the set $\\mathcal{N}(v_i)$ is the neighborhood of the vertex $v_i$.\n",
    "   - Continue until the walk reaches the specified length $l$.\n",
    "   \n",
    "   This generates a corpus of random walks (node sequences).\n",
    "\n",
    "4. **Train Skip-gram Model**  \n",
    "   Treat the random walks as a \"text corpus\" and train a Skip-gram model (e.g., from Word2Vec) to learn node embeddings.\n",
    "\n",
    "---"
   ]
  },
  {
   "cell_type": "code",
   "execution_count": 8,
   "id": "99a3b434-cce5-402a-ae7e-5651051934e9",
   "metadata": {},
   "outputs": [
    {
     "name": "stdout",
     "output_type": "stream",
     "text": [
      "{'A': ['A', np.str_('P'), np.str_('O'), np.str_('N'), np.str_('J')], 'B': ['B', np.str_('D'), np.str_('H'), np.str_('D'), np.str_('B')], 'C': ['C', np.str_('G'), np.str_('C'), np.str_('G'), np.str_('C')], 'D': ['D', np.str_('H'), np.str_('D'), np.str_('A'), np.str_('B')], 'E': ['E', np.str_('I'), np.str_('F'), np.str_('C'), np.str_('G')], 'F': ['F', np.str_('C'), np.str_('A'), np.str_('C'), np.str_('F')], 'G': ['G', np.str_('C'), np.str_('F'), np.str_('J'), np.str_('F')], 'H': ['H', np.str_('L'), np.str_('H'), np.str_('L'), np.str_('H')]}\n"
     ]
    }
   ],
   "source": [
    "# The algorithm of the Random Algorithm \n",
    "def random_walk(graph, start_vertex, num_steps):\n",
    "    \"\"\"\n",
    "    Performs a random walk on a graph starting from a specified vertex.\n",
    "\n",
    "    Parameters\n",
    "    ----------\n",
    "    graph: Graph object\n",
    "        The graph containing nodes (vertices) and edges.\n",
    "    start_vertex: Any\n",
    "        The starting node for the random walk.\n",
    "    num_steps: int\n",
    "        The number of steps the random walk should take.\n",
    "\n",
    "    Returns\n",
    "    -------\n",
    "    traverse_path: list\n",
    "        A list of nodes visited during the random walk.\n",
    "\n",
    "    Raises\n",
    "    ------\n",
    "    ValueError\n",
    "        If the start_vertex is not a valid node in the graph.\n",
    "    \"\"\"\n",
    "    if start_vertex not in graph.graph_dict:\n",
    "        return ValueError(\"Start vertex not in graph\")\n",
    "\n",
    "    current_vertex = start_vertex\n",
    "    traverse_path = [current_vertex]\n",
    "\n",
    "    for _ in range(num_steps):\n",
    "        neighbors = graph.graph_dict[current_vertex]\n",
    "\n",
    "        if not neighbors:\n",
    "            break\n",
    "\n",
    "        next_step = np.random.choice(neighbors)    \n",
    "        traverse_path.append(next_step)\n",
    "        current_vertex = next_step\n",
    "\n",
    "    return traverse_path\n",
    "\n",
    "\n",
    "# Conducting the algorithm with multi-threading to improve the performance of the model\n",
    "def random_walk_multi(graph, start_vertices, num_steps, num_threads = 4):\n",
    "    results = {}\n",
    "\n",
    "    def worker(start_vertex):\n",
    "        path = random_walk(graph, start_vertex, num_steps)\n",
    "        with graph.lock:\n",
    "            results[start_vertex] = path\n",
    "\n",
    "    with ThreadPoolExecutor(max_workers = num_threads) as executor:\n",
    "        executor.map(worker, start_vertices)\n",
    "\n",
    "    return results\n",
    "\n",
    "\n",
    "start_vertices = ['A', 'B', 'C', 'D', 'E', 'F', 'G', 'H']\n",
    "num_steps = 4\n",
    "num_threads = 4\n",
    "\n",
    "result_paths = random_walk_multi(G, start_vertices, num_steps, num_threads)\n",
    "print(result_paths)"
   ]
  },
  {
   "cell_type": "markdown",
   "id": "c4bfbd92-39b7-4103-af07-a19b5b150666",
   "metadata": {},
   "source": [
    "## Implementing the DeepWalk algorithm\n",
    "\n",
    "These random walks sequences can be thought as the basic phrases or sentences of the graph. We can take the direct analogy to the concept of Word2Vec, which estimate the likelihood of observing the vertex $v_i$ given the the neighboring vertex $v_k$. However, the goal is to learn the latent representation $\\Phi \\in \\mathbb{R}^{|V| \\times d}$. The mapping $\\Phi : v_i \\in \\mathbb{R} \\rightarrow \\mathbb{R}^{d}$ is the social representation of the vertex $v_i$.\n",
    "\n",
    "The problem then to estimate the likelihood:\n",
    "\n",
    "$$Pr(v_i | (\\Phi(v_1), \\Phi(v_2). \\dots, \\Phi(v_{i - 1}))$$\n",
    "\n",
    "However, as the length of walk increases, computing the equation above is unfeasible. Hence, we have:\n",
    "- Use 1 word to predict the context\n",
    "- The context are the words in the left or in the right of the targeted word\n",
    "- Removes the ordering constraint\n",
    "\n",
    "Which is equivalent to the optimization problem below \n",
    "$$\\underset{\\Phi}{\\text{minimize}} \\quad - \\log \\Pr\\left(\\{v_{i-w}, \\cdots, v_{i-1}, v_{i+1}, \\cdots, v_{i+w}\\} \\mid \\Phi(v_i)\\right)$$\n",
    "\n",
    "Solving this optimization captures the shared similarities in the local graph structure between vertices. It can be viewed as the sum of probabilities $P(v_k | v_i)$, which helps accelerate training. This process is known as the Skip-Gram Algorithm, a key component of the Word2Vec algorithm used in Natural Language Processing (NLP)"
   ]
  },
  {
   "cell_type": "markdown",
   "id": "8b8a84c6-1458-4bd7-bb23-994b657cc9e2",
   "metadata": {},
   "source": [
    "### Skip-Gram Algorithm"
   ]
  },
  {
   "cell_type": "markdown",
   "id": "e060e0e1-f1a9-4976-baf2-ee1a53e777fb",
   "metadata": {},
   "source": [
    "Once random walks are generated, DeepWalk applies the Skip-gram model to these sequences. In the context of DeepWalk, the Skip-gram model learns to predict the context nodes (neighbors) of a target node within a fixed-size window, based on the random walk sequences.\n",
    "\n",
    "Given a random walk sequence:\n",
    "\n",
    "$v_i, v_j, v_k, v_l, \\dots$\n",
    "\n",
    "For each node $v_i$ in the sequence, the Skip-gram model will learn to predict the neighboring nodes $v_i, v_j, v_k, v_l, \\dots$ as its context within a fixed-size window.\n",
    "\n",
    "Mathematically, the Skip-gram model tries to maximize the likelihood of observing the context nodes given the target node, which is the same objective as in the Word2Vec Skip-gram model:\n",
    "\n",
    "$$P(v_j | v_i) = \\frac{\\exp(\\Phi(v_i)^T \\cdot \\Phi(v_j))}{\\sum_{v_k \\in V} \\exp(\\Phi(v_i)^T \\cdot \\Phi(v_k))}$$\n",
    "\n",
    "\n",
    "\n",
    "\n",
    "Where:\n",
    "\n",
    "- $\\Phi(v_i)$ is the vector embedding of node $v_i$\n",
    "- $\\Phi(v_j)$ is the vector embedding of the context node $v_j$\n",
    "- $V$ is the set of all nodes in the graph."
   ]
  },
  {
   "cell_type": "code",
   "execution_count": 9,
   "id": "e7e9f395-5d7e-4360-a6e7-583d33aaf50f",
   "metadata": {},
   "outputs": [],
   "source": [
    "def skipgram_algorithm(all_walks, window_size):\n",
    "\n",
    "    training_data = []\n",
    "    for walk in all_walks:\n",
    "        for i in range(len(walk)):\n",
    "            center_vertex = walk[i]\n",
    "\n",
    "            left_start = max(0, i - window_size)\n",
    "            right_end = min(len(walk), i + window_size + 1)\n",
    "            for j in range(left_start, right_end):\n",
    "                if i != j:\n",
    "                    training_data.append((center_vertex, walk[j]))\n",
    "    return training_data\n"
   ]
  },
  {
   "cell_type": "code",
   "execution_count": 219,
   "id": "873e54c4-14f8-4f0b-9209-21ef055ada25",
   "metadata": {},
   "outputs": [],
   "source": [
    "class DeepWalk(nn.Module):\n",
    "    def __init__(self, num_nodes, embedding_dim):\n",
    "        super(DeepWalk, self).__init__()\n",
    "        self.embeddings = nn.Embedding(num_nodes, embedding_dim)\n",
    "        # self.output_layer = nn.Linear(embedding_dim, num_nodes, bias = False)\n",
    "\n",
    "    def forward(self, center, context):\n",
    "        # return self.output_layer(self.embeddings(input_walks))\n",
    "\n",
    "        center_embed = self.embeddings(center)\n",
    "        context_embed = self.embeddings(context)\n",
    "\n",
    "        # Applying log-sum-exp trick to solve the overflow problem\n",
    "        all_logits = torch.matmul(center_embed, self.embeddings.weight.T) # (B, Vocab_size)\n",
    "\n",
    "  \n",
    "        result = torch.sum(center_embed * context_embed, dim = 1, keepdim = True)\n",
    "        \n",
    "     \n",
    "        # print(all_logits.shape)\n",
    "        max_logits, _ = torch.max(all_logits, dim = 1, keepdim = True)\n",
    "        log_sum_exp = max_logits + torch.log(torch.sum(torch.exp(all_logits - max_logits), dim=1, keepdim=True))\n",
    "        # print(max_logits)\n",
    "        log_prob = result - log_sum_exp\n",
    "\n",
    "        return -log_prob"
   ]
  },
  {
   "cell_type": "markdown",
   "id": "8dccd0bf-2a36-4563-ab5c-643ab35d857a",
   "metadata": {},
   "source": [
    "### Hierarchical Softmax"
   ]
  },
  {
   "cell_type": "code",
   "execution_count": 11,
   "id": "746184f9-d94c-45e5-89e1-e39e8bdf5d27",
   "metadata": {},
   "outputs": [
    {
     "name": "stdout",
     "output_type": "stream",
     "text": [
      "tensor([4, 4, 4, 4, 4, 4, 4, 4, 4, 4, 4, 4, 4, 4, 4, 4, 4, 4, 4, 4, 4, 4, 4, 4,\n",
      "        4, 4, 4, 4, 4, 4, 4, 4], device='cuda:0')\n"
     ]
    }
   ],
   "source": [
    "# def length_binary_tree(node):\n",
    "#     count = 0\n",
    "#     print(node)\n",
    "#     while (node > 1):\n",
    "#         node //= 2\n",
    "#         count += 1\n",
    "#     return count\n",
    "\n",
    "def length_binary_tree_tensors(nodes):\n",
    "    count = torch.zeros_like(nodes)\n",
    "    while torch.any(nodes > 1):\n",
    "        nodes = nodes // 2\n",
    "        count += (nodes > 0).int()\n",
    "\n",
    "    return count\n",
    "\n",
    "# Example tensor input\n",
    "nodes = torch.tensor(\n",
    "    [23, 30, 24, 16, 28, 31, 31, 16, 31, 31, 30, 24, 25, 28, 27, 21, \n",
    "     29, 20, 26, 23, 30, 27, 29, 30, 17, 20, 30, 27, 22, 16, 17, 20], \n",
    "    device='cuda:0'\n",
    ")\n",
    "\n",
    "# Calculate lengths for each node\n",
    "lengths = length_binary_tree_tensors(nodes)\n",
    "print(lengths)\n",
    "\n",
    "# length_binary_tree(6)"
   ]
  },
  {
   "cell_type": "code",
   "execution_count": 12,
   "id": "5585482f-65c2-47c2-8216-0644f2460102",
   "metadata": {},
   "outputs": [
    {
     "name": "stdout",
     "output_type": "stream",
     "text": [
      "tensor([[23, 11,  5,  2,  1],\n",
      "        [30, 15,  7,  3,  1],\n",
      "        [24, 12,  6,  3,  1],\n",
      "        [16,  8,  4,  2,  1],\n",
      "        [28, 14,  7,  3,  1]])\n",
      "Path for node 1: tensor([23, 11,  5,  2,  1])\n",
      "Path for node 2: tensor([30, 15,  7,  3,  1])\n",
      "Path for node 3: tensor([24, 12,  6,  3,  1])\n",
      "Path for node 4: tensor([16,  8,  4,  2,  1])\n",
      "Path for node 5: tensor([28, 14,  7,  3,  1])\n"
     ]
    }
   ],
   "source": [
    "def path_binary_tree_tensors(nodes):\n",
    "    max_steps = torch.floor(torch.log2(nodes.float())).int() + 1  # Maximum path length for each node\n",
    "    batch_size = len(nodes)\n",
    "    \n",
    "    paths = torch.zeros((batch_size, max_steps.max()), device=nodes.device, dtype=torch.int)\n",
    "    \n",
    "    for i in range(max_steps.max()):\n",
    "        paths[:, i] = nodes\n",
    "        nodes = nodes // 2  # Update nodes by dividing by 2\n",
    "        nodes[nodes < 1] = 0  # Stop updating for nodes <= 1\n",
    "    \n",
    "    # Remove trailing zeros for each row\n",
    "    path_lengths = max_steps\n",
    "    # print(paths)\n",
    "    trimmed_paths = torch.tensor([paths[i, :path_lengths[i]].tolist() for i in range(batch_size)])\n",
    "    return trimmed_paths\n",
    "\n",
    "\n",
    "nodes = torch.tensor([23, 30, 24, 16, 28], device='cuda:0')\n",
    "paths = path_binary_tree_tensors(nodes)\n",
    "print(paths)\n",
    "for i, path in enumerate(paths):\n",
    "    print(f\"Path for node {i+1}: {path}\")"
   ]
  },
  {
   "cell_type": "code",
   "execution_count": 13,
   "id": "1a3ec21b-04b8-4326-a197-ba1de2d21de4",
   "metadata": {},
   "outputs": [],
   "source": [
    "class DeepWalk_HierSoftmax(nn.Module):\n",
    "    def __init__(self, num_nodes, embedding_dim):\n",
    "        super(DeepWalk_HierSoftmax, self).__init__()\n",
    "        self.num_nodes = num_nodes\n",
    "        self.embeddings = nn.Embedding(num_nodes, embedding_dim)\n",
    "        self.probs_tensor = nn.Parameter(torch.rand(2 * num_nodes, embedding_dim), \n",
    "                                         requires_grad = True)\n",
    "\n",
    "    def length_binary_tree_tensors(self, nodes):\n",
    "        count = torch.zeros_like(nodes)\n",
    "        while torch.any(nodes > 1):\n",
    "            nodes = nodes // 2\n",
    "            count += (nodes > 0).int()\n",
    "    \n",
    "        return count\n",
    "\n",
    "    def path_binary_tree_tensors(self, nodes):\n",
    "        max_steps = torch.floor(torch.log2(nodes.float())).int() + 1  # Maximum path length for each node\n",
    "        batch_size = len(nodes)\n",
    "        \n",
    "        paths = torch.zeros((batch_size, max_steps.max()), device=nodes.device, dtype=torch.int)\n",
    "        \n",
    "        for i in range(max_steps.max()):\n",
    "            paths[:, i] = nodes\n",
    "            nodes = nodes // 2  # Update nodes by dividing by 2\n",
    "            nodes[nodes < 1] = 0  # Stop updating for nodes <= 1\n",
    "        \n",
    "        # Remove trailing zeros for each row\n",
    "        path_lengths = max_steps\n",
    "        # print(paths)\n",
    "        trimmed_paths = torch.tensor([paths[i, :path_lengths[i]].tolist() for i in range(batch_size)])\n",
    "        \n",
    "        return trimmed_paths\n",
    "\n",
    "\n",
    "    def forward(self, center, context):\n",
    "        embed_center = self.embeddings(center)\n",
    "        # print(f'shape of embed_center : {embed_center.shape}')\n",
    "        context_node = self.num_nodes + context\n",
    "        \n",
    "        length_binary = self.length_binary_tree_tensors(context_node)\n",
    "        path_bin_tree = self.path_binary_tree_tensors(context_node)\n",
    "\n",
    "        # Prepare paths as a padded tensor\n",
    "        max_path_len = length_binary.max()\n",
    "    \n",
    "        # print(max_path_len)\n",
    "        logp = torch.zeros((len(context_node), 1), device=context_node.device)\n",
    "        for i in range(1, max_path_len):\n",
    "            # Extract the current level's nodes\n",
    "            nodes = path_bin_tree[:, i]\n",
    "    \n",
    "            # Compute signs based on node parity\n",
    "            signs = torch.where(nodes % 2 == 0, 1.0, -1.0).unsqueeze(1).to(context_node.device)\n",
    "\n",
    "            # print(torch.matmul(self.probs_tensor[nodes], embed_center.T).shape)\n",
    "\n",
    "            dot_product = torch.sum(self.probs_tensor[nodes] * embed_center, dim = 1, keepdim = True)\n",
    "\n",
    "            probs = torch.sigmoid(signs * dot_product)\n",
    "            \n",
    "            # probs = torch.sigmoid(signs * torch.matmul(self.probs_tensor[nodes], embed_center.T))\n",
    "            # print(probs)\n",
    "            log_probs = torch.log(probs)\n",
    "            logp += log_probs  # Aggregate probabilities for the batch\n",
    "            \n",
    "        return -logp\n"
   ]
  },
  {
   "cell_type": "code",
   "execution_count": 14,
   "id": "f88060ba-3d0a-4755-8785-f1b4ddaf4756",
   "metadata": {},
   "outputs": [],
   "source": [
    "class DeepWalkDataset(Dataset):\n",
    "    def __init__(self, training_data, vertex_to_index):\n",
    "        self.training_data = training_data\n",
    "        self.vertex_to_index = vertex_to_index\n",
    "\n",
    "    def __len__(self):\n",
    "        return len(self.training_data)\n",
    "\n",
    "    def __getitem__(self, index):\n",
    "        center_vertex, context_vertices = self.training_data[index]\n",
    "        center_index = torch.tensor(self.vertex_to_index[center_vertex])\n",
    "        context_indices = torch.tensor(self.vertex_to_index[context_vertices])\n",
    "\n",
    "        return center_index, context_indices"
   ]
  },
  {
   "cell_type": "code",
   "execution_count": 15,
   "id": "44ed3632-44e3-4fab-9e2d-6c86ae3aa0dc",
   "metadata": {},
   "outputs": [
    {
     "name": "stdout",
     "output_type": "stream",
     "text": [
      "cuda\n"
     ]
    }
   ],
   "source": [
    "device = torch.device('cuda' if torch.cuda.is_available() else 'cpu')\n",
    "print(device)"
   ]
  },
  {
   "cell_type": "code",
   "execution_count": 16,
   "id": "8c8a178b-464c-4512-9053-72ba2d2335a9",
   "metadata": {},
   "outputs": [
    {
     "name": "stdout",
     "output_type": "stream",
     "text": [
      "Epoch: 1, Loss: 2.534926176071167\n",
      "Epoch: 2, Loss: 0.19295942783355713\n",
      "Epoch: 3, Loss: 0.06626729667186737\n",
      "Epoch: 4, Loss: 0.0338328592479229\n",
      "Epoch: 5, Loss: 0.020749082788825035\n"
     ]
    }
   ],
   "source": [
    "num_walks = 30\n",
    "walk_length = 5\n",
    "window_size = 2\n",
    "num_epochs = 5\n",
    "\n",
    "all_walks = []\n",
    "list_vertices = G.get_vertices()\n",
    "for _ in range(num_walks):\n",
    "    walks = random_walk_multi(G, list_vertices, walk_length)\n",
    "    all_walks.extend(list(walks.values()))\n",
    "\n",
    "# return all_walks\n",
    "vertex_to_index = {vertex: index for index, vertex in enumerate(list_vertices)}\n",
    "vocab_size = len(vertex_to_index)\n",
    "\n",
    "training_data = skipgram_algorithm(all_walks, window_size)\n",
    "training_data = DeepWalkDataset(training_data, vertex_to_index)\n",
    "training_loader = DataLoader(training_data, batch_size = 32, shuffle = True)\n",
    "\n",
    "deepwalk_hierarchical = DeepWalk_HierSoftmax(vocab_size, 128).to(device)\n",
    "optimizer = optim.Adam(deepwalk_hierarchical.parameters(), lr = 0.001)\n",
    "\n",
    "deepwalk_hierarchical.train()\n",
    "for epoch in range(num_epochs):\n",
    "    total_loss = 0\n",
    "    for center, context in training_loader:\n",
    "        optimizer.zero_grad()\n",
    "        center = center.to(device)\n",
    "        context = context.to(device)\n",
    "        neg_logp = deepwalk_hierarchical(center, context)\n",
    "\n",
    "        avg_logp = neg_logp.mean()\n",
    "        avg_logp.backward()\n",
    "        # for i in range(neg_logp.size(0)):\n",
    "        #     neg_logp[i].backward(retain_graph=True)  # retain_graph=True allows multiple backward passes\n",
    "\n",
    "        optimizer.step()\n",
    "        total_loss += avg_logp\n",
    "\n",
    "        # print(avg_logp)\n",
    "\n",
    "    print(f'Epoch: {epoch + 1}, Loss: {total_loss / len(training_loader)}')\n",
    "\n"
   ]
  },
  {
   "cell_type": "code",
   "execution_count": 17,
   "id": "37ebecee-bb59-486e-8989-19bc5839ecaf",
   "metadata": {},
   "outputs": [],
   "source": [
    "embedding_weight = deepwalk_hierarchical.embeddings.weight"
   ]
  },
  {
   "cell_type": "code",
   "execution_count": 18,
   "id": "83057f82-0472-4f7e-a2ba-ef84c0b9f004",
   "metadata": {},
   "outputs": [
    {
     "name": "stdout",
     "output_type": "stream",
     "text": [
      "0.11891493946313858\n"
     ]
    }
   ],
   "source": [
    "def calculate_cosine_sim(vector_0, vector_1):\n",
    "    dot_product = torch.sum(vector_0 * vector_1)\n",
    "    \n",
    "    magnitude_0 = torch.sqrt(torch.sum(vector_0 ** 2))\n",
    "    magnitude_1 = torch.sqrt(torch.sum(vector_1 ** 2))\n",
    "        \n",
    "    cosine_similarity = dot_product / (magnitude_0 * magnitude_1)\n",
    "\n",
    "    return cosine_similarity.item()\n",
    "\n",
    "vector_0 = embedding_weight[1]  # Node B\n",
    "vector_1 = embedding_weight[3]  # Node D\n",
    "\n",
    "print(calculate_cosine_sim(vector_0, vector_1))"
   ]
  },
  {
   "cell_type": "markdown",
   "id": "94bafaa4-7aae-496b-889b-e997237090c8",
   "metadata": {},
   "source": [
    "We can measure the cosine similarity of the node `A` and node `D` to evaluate the model"
   ]
  },
  {
   "cell_type": "markdown",
   "id": "ba7c6dcc-06ad-4c52-885f-95a1f96cb347",
   "metadata": {},
   "source": [
    "## Let's try some dataset"
   ]
  },
  {
   "cell_type": "markdown",
   "id": "07214753-6c57-4a58-9558-4e4aac516ef9",
   "metadata": {},
   "source": [
    "1. BlogCatalog Dataset"
   ]
  },
  {
   "cell_type": "code",
   "execution_count": 32,
   "id": "4ee273a0-c672-4aa1-b5a4-73ef0edfbdaa",
   "metadata": {},
   "outputs": [
    {
     "name": "stdout",
     "output_type": "stream",
     "text": [
      "--2024-12-07 07:53:34--  https://datasets.syr.edu/uploads/1283153973/BlogCatalog-dataset.zip\n",
      "Resolving datasets.syr.edu (datasets.syr.edu)... 128.230.247.57\n",
      "Connecting to datasets.syr.edu (datasets.syr.edu)|128.230.247.57|:443... connected.\n",
      "WARNING: cannot verify datasets.syr.edu's certificate, issued by ‘CN=R10,O=Let's Encrypt,C=US’:\n",
      "  Issued certificate has expired.\n",
      "200 OKequest sent, awaiting response... \n",
      "Length: 976987 (954K) [application/zip]\n",
      "Saving to: ‘BlogCatalog-dataset.zip’\n",
      "\n",
      "BlogCatalog-dataset 100%[===================>] 954.09K  5.93MB/s    in 0.2s    \n",
      "\n",
      "2024-12-07 07:53:34 (5.93 MB/s) - ‘BlogCatalog-dataset.zip’ saved [976987/976987]\n",
      "\n"
     ]
    }
   ],
   "source": [
    "!wget --no-check-certificate \"https://datasets.syr.edu/uploads/1283153973/BlogCatalog-dataset.zip\""
   ]
  },
  {
   "cell_type": "code",
   "execution_count": 33,
   "id": "201b978f-b80a-4bf7-8b7c-e9ddb9d79a03",
   "metadata": {},
   "outputs": [
    {
     "name": "stdout",
     "output_type": "stream",
     "text": [
      "Reading package lists... Done\n",
      "Building dependency tree... Done\n",
      "Reading state information... Done\n",
      "unzip is already the newest version (6.0-26ubuntu3.2).\n",
      "0 upgraded, 0 newly installed, 0 to remove and 1 not upgraded.\n",
      "Archive:  BlogCatalog-dataset.zip\n",
      "   creating: BlogCatalog-dataset/\n",
      "   creating: BlogCatalog-dataset/data/\n",
      "  inflating: BlogCatalog-dataset/data/edges.csv  \n",
      "  inflating: BlogCatalog-dataset/data/group-edges.csv  \n",
      "  inflating: BlogCatalog-dataset/data/groups.csv  \n",
      "  inflating: BlogCatalog-dataset/data/nodes.csv  \n",
      "  inflating: BlogCatalog-dataset/readme.txt  \n"
     ]
    }
   ],
   "source": [
    "!sudo apt-get install unzip\n",
    "!unzip BlogCatalog-dataset.zip"
   ]
  },
  {
   "cell_type": "code",
   "execution_count": 30,
   "id": "5d9cf845-23e2-4a63-8acb-5d420f264d5f",
   "metadata": {},
   "outputs": [
    {
     "name": "stdout",
     "output_type": "stream",
     "text": [
      "BlogCatalog-dataset  BlogCatalog-dataset.zip  DeepWalk.ipynb\n"
     ]
    }
   ],
   "source": [
    "!ls"
   ]
  },
  {
   "cell_type": "markdown",
   "id": "d1f5c9b6-77f8-4dfc-b1c2-5d88af68e935",
   "metadata": {},
   "source": [
    "Loading the dataset"
   ]
  },
  {
   "cell_type": "code",
   "execution_count": 22,
   "id": "d02c2f93-b298-4ea0-b50a-6444de2b868f",
   "metadata": {},
   "outputs": [],
   "source": [
    "import pandas as pd\n",
    "from torch.utils.data import Dataset\n",
    "import networkx as nx\n",
    "from tqdm.notebook import tqdm\n"
   ]
  },
  {
   "cell_type": "code",
   "execution_count": 182,
   "id": "1bdc42b9-3a9b-4ea5-bf8a-ff8f0fad601f",
   "metadata": {},
   "outputs": [],
   "source": [
    "nodes_df = pd.read_csv('BlogCatalog-dataset/data/nodes.csv',\n",
    "                   header = None, names = ['id'])\n",
    "edges_df = pd.read_csv('BlogCatalog-dataset/data/edges.csv',\n",
    "                   header = None, names = ['source', 'target'])\n",
    "labels_df = pd.read_csv('BlogCatalog-dataset/data/groups.csv',\n",
    "                        header = None, names = ['label'])\n",
    "labels_node_df = pd.read_csv('BlogCatalog-dataset/data/group-edges.csv',\n",
    "                            header = None, names = ['node', 'label'])\n",
    "\n",
    "\n",
    "G = nx.Graph()\n",
    "\n",
    "for _, row in nodes_df.iterrows():\n",
    "    G.add_node(row['id'])\n",
    "\n",
    "G.add_edges_from(edges_df.values)\n",
    "\n"
   ]
  },
  {
   "cell_type": "code",
   "execution_count": 39,
   "id": "5bf74d30-6a2a-4017-8f41-2358f729e6a2",
   "metadata": {},
   "outputs": [
    {
     "name": "stdout",
     "output_type": "stream",
     "text": [
      "Number of labels: 39\n",
      "Number of nodes with labels: 14476\n"
     ]
    }
   ],
   "source": [
    "print(f'Number of labels: {groups_df.shape[0]}')\n",
    "print(f'Number of nodes with labels: {label_nodes_df.shape[0]}')"
   ]
  },
  {
   "cell_type": "code",
   "execution_count": 43,
   "id": "f27c0b9a-a117-49f1-b6fc-4062950b9912",
   "metadata": {},
   "outputs": [
    {
     "data": {
      "text/html": [
       "<div>\n",
       "<style scoped>\n",
       "    .dataframe tbody tr th:only-of-type {\n",
       "        vertical-align: middle;\n",
       "    }\n",
       "\n",
       "    .dataframe tbody tr th {\n",
       "        vertical-align: top;\n",
       "    }\n",
       "\n",
       "    .dataframe thead th {\n",
       "        text-align: right;\n",
       "    }\n",
       "</style>\n",
       "<table border=\"1\" class=\"dataframe\">\n",
       "  <thead>\n",
       "    <tr style=\"text-align: right;\">\n",
       "      <th></th>\n",
       "      <th>node</th>\n",
       "      <th>label</th>\n",
       "    </tr>\n",
       "  </thead>\n",
       "  <tbody>\n",
       "    <tr>\n",
       "      <th>0</th>\n",
       "      <td>28</td>\n",
       "      <td>1</td>\n",
       "    </tr>\n",
       "    <tr>\n",
       "      <th>2</th>\n",
       "      <td>36</td>\n",
       "      <td>1</td>\n",
       "    </tr>\n",
       "    <tr>\n",
       "      <th>3</th>\n",
       "      <td>37</td>\n",
       "      <td>1</td>\n",
       "    </tr>\n",
       "    <tr>\n",
       "      <th>4</th>\n",
       "      <td>84</td>\n",
       "      <td>1</td>\n",
       "    </tr>\n",
       "    <tr>\n",
       "      <th>5</th>\n",
       "      <td>129</td>\n",
       "      <td>1</td>\n",
       "    </tr>\n",
       "    <tr>\n",
       "      <th>...</th>\n",
       "      <td>...</td>\n",
       "      <td>...</td>\n",
       "    </tr>\n",
       "    <tr>\n",
       "      <th>14468</th>\n",
       "      <td>14</td>\n",
       "      <td>39</td>\n",
       "    </tr>\n",
       "    <tr>\n",
       "      <th>14469</th>\n",
       "      <td>691</td>\n",
       "      <td>39</td>\n",
       "    </tr>\n",
       "    <tr>\n",
       "      <th>14470</th>\n",
       "      <td>1250</td>\n",
       "      <td>39</td>\n",
       "    </tr>\n",
       "    <tr>\n",
       "      <th>14473</th>\n",
       "      <td>1550</td>\n",
       "      <td>39</td>\n",
       "    </tr>\n",
       "    <tr>\n",
       "      <th>14475</th>\n",
       "      <td>7759</td>\n",
       "      <td>39</td>\n",
       "    </tr>\n",
       "  </tbody>\n",
       "</table>\n",
       "<p>7016 rows × 2 columns</p>\n",
       "</div>"
      ],
      "text/plain": [
       "       node  label\n",
       "0        28      1\n",
       "2        36      1\n",
       "3        37      1\n",
       "4        84      1\n",
       "5       129      1\n",
       "...     ...    ...\n",
       "14468    14     39\n",
       "14469   691     39\n",
       "14470  1250     39\n",
       "14473  1550     39\n",
       "14475  7759     39\n",
       "\n",
       "[7016 rows x 2 columns]"
      ]
     },
     "execution_count": 43,
     "metadata": {},
     "output_type": "execute_result"
    }
   ],
   "source": [
    "duplicated_nodes = label_nodes_df[label_nodes_df.duplicated(subset='node', keep=False)]\n",
    "duplicated_nodes"
   ]
  },
  {
   "cell_type": "code",
   "execution_count": 258,
   "id": "8e9837d9-0361-4197-b99a-cbc68ba66651",
   "metadata": {},
   "outputs": [
    {
     "data": {
      "text/plain": [
       "[37]"
      ]
     },
     "execution_count": 258,
     "metadata": {},
     "output_type": "execute_result"
    }
   ],
   "source": [
    "abc = label_nodes_df.groupby('node')['label'].apply(list).to_dict()\n",
    "abc[1762]"
   ]
  },
  {
   "cell_type": "code",
   "execution_count": 248,
   "id": "7d57dbd6-9552-488e-9889-556e4e3f2968",
   "metadata": {},
   "outputs": [
    {
     "data": {
      "text/html": [
       "<div>\n",
       "<style scoped>\n",
       "    .dataframe tbody tr th:only-of-type {\n",
       "        vertical-align: middle;\n",
       "    }\n",
       "\n",
       "    .dataframe tbody tr th {\n",
       "        vertical-align: top;\n",
       "    }\n",
       "\n",
       "    .dataframe thead th {\n",
       "        text-align: right;\n",
       "    }\n",
       "</style>\n",
       "<table border=\"1\" class=\"dataframe\">\n",
       "  <thead>\n",
       "    <tr style=\"text-align: right;\">\n",
       "      <th></th>\n",
       "      <th>node</th>\n",
       "      <th>label</th>\n",
       "    </tr>\n",
       "  </thead>\n",
       "  <tbody>\n",
       "    <tr>\n",
       "      <th>14388</th>\n",
       "      <td>1053</td>\n",
       "      <td>37</td>\n",
       "    </tr>\n",
       "    <tr>\n",
       "      <th>14389</th>\n",
       "      <td>1762</td>\n",
       "      <td>37</td>\n",
       "    </tr>\n",
       "    <tr>\n",
       "      <th>14390</th>\n",
       "      <td>1851</td>\n",
       "      <td>37</td>\n",
       "    </tr>\n",
       "    <tr>\n",
       "      <th>14391</th>\n",
       "      <td>1866</td>\n",
       "      <td>37</td>\n",
       "    </tr>\n",
       "    <tr>\n",
       "      <th>14392</th>\n",
       "      <td>2382</td>\n",
       "      <td>37</td>\n",
       "    </tr>\n",
       "    <tr>\n",
       "      <th>14393</th>\n",
       "      <td>2508</td>\n",
       "      <td>37</td>\n",
       "    </tr>\n",
       "    <tr>\n",
       "      <th>14394</th>\n",
       "      <td>3037</td>\n",
       "      <td>37</td>\n",
       "    </tr>\n",
       "    <tr>\n",
       "      <th>14395</th>\n",
       "      <td>3045</td>\n",
       "      <td>37</td>\n",
       "    </tr>\n",
       "    <tr>\n",
       "      <th>14396</th>\n",
       "      <td>3128</td>\n",
       "      <td>37</td>\n",
       "    </tr>\n",
       "    <tr>\n",
       "      <th>14397</th>\n",
       "      <td>3690</td>\n",
       "      <td>37</td>\n",
       "    </tr>\n",
       "    <tr>\n",
       "      <th>14398</th>\n",
       "      <td>3704</td>\n",
       "      <td>37</td>\n",
       "    </tr>\n",
       "    <tr>\n",
       "      <th>14399</th>\n",
       "      <td>4113</td>\n",
       "      <td>37</td>\n",
       "    </tr>\n",
       "    <tr>\n",
       "      <th>14400</th>\n",
       "      <td>4452</td>\n",
       "      <td>37</td>\n",
       "    </tr>\n",
       "    <tr>\n",
       "      <th>14401</th>\n",
       "      <td>4465</td>\n",
       "      <td>37</td>\n",
       "    </tr>\n",
       "    <tr>\n",
       "      <th>14402</th>\n",
       "      <td>5129</td>\n",
       "      <td>37</td>\n",
       "    </tr>\n",
       "    <tr>\n",
       "      <th>14403</th>\n",
       "      <td>5930</td>\n",
       "      <td>37</td>\n",
       "    </tr>\n",
       "    <tr>\n",
       "      <th>14404</th>\n",
       "      <td>5937</td>\n",
       "      <td>37</td>\n",
       "    </tr>\n",
       "    <tr>\n",
       "      <th>14405</th>\n",
       "      <td>6338</td>\n",
       "      <td>37</td>\n",
       "    </tr>\n",
       "    <tr>\n",
       "      <th>14406</th>\n",
       "      <td>6363</td>\n",
       "      <td>37</td>\n",
       "    </tr>\n",
       "    <tr>\n",
       "      <th>14407</th>\n",
       "      <td>6384</td>\n",
       "      <td>37</td>\n",
       "    </tr>\n",
       "    <tr>\n",
       "      <th>14408</th>\n",
       "      <td>6389</td>\n",
       "      <td>37</td>\n",
       "    </tr>\n",
       "    <tr>\n",
       "      <th>14409</th>\n",
       "      <td>6404</td>\n",
       "      <td>37</td>\n",
       "    </tr>\n",
       "    <tr>\n",
       "      <th>14410</th>\n",
       "      <td>6689</td>\n",
       "      <td>37</td>\n",
       "    </tr>\n",
       "    <tr>\n",
       "      <th>14411</th>\n",
       "      <td>6860</td>\n",
       "      <td>37</td>\n",
       "    </tr>\n",
       "    <tr>\n",
       "      <th>14412</th>\n",
       "      <td>7181</td>\n",
       "      <td>37</td>\n",
       "    </tr>\n",
       "    <tr>\n",
       "      <th>14413</th>\n",
       "      <td>7249</td>\n",
       "      <td>37</td>\n",
       "    </tr>\n",
       "    <tr>\n",
       "      <th>14414</th>\n",
       "      <td>7459</td>\n",
       "      <td>37</td>\n",
       "    </tr>\n",
       "    <tr>\n",
       "      <th>14415</th>\n",
       "      <td>7554</td>\n",
       "      <td>37</td>\n",
       "    </tr>\n",
       "    <tr>\n",
       "      <th>14416</th>\n",
       "      <td>7567</td>\n",
       "      <td>37</td>\n",
       "    </tr>\n",
       "    <tr>\n",
       "      <th>14417</th>\n",
       "      <td>7651</td>\n",
       "      <td>37</td>\n",
       "    </tr>\n",
       "    <tr>\n",
       "      <th>14418</th>\n",
       "      <td>7677</td>\n",
       "      <td>37</td>\n",
       "    </tr>\n",
       "    <tr>\n",
       "      <th>14419</th>\n",
       "      <td>7849</td>\n",
       "      <td>37</td>\n",
       "    </tr>\n",
       "    <tr>\n",
       "      <th>14420</th>\n",
       "      <td>7886</td>\n",
       "      <td>37</td>\n",
       "    </tr>\n",
       "    <tr>\n",
       "      <th>14421</th>\n",
       "      <td>7887</td>\n",
       "      <td>37</td>\n",
       "    </tr>\n",
       "    <tr>\n",
       "      <th>14422</th>\n",
       "      <td>8114</td>\n",
       "      <td>37</td>\n",
       "    </tr>\n",
       "    <tr>\n",
       "      <th>14423</th>\n",
       "      <td>8225</td>\n",
       "      <td>37</td>\n",
       "    </tr>\n",
       "    <tr>\n",
       "      <th>14424</th>\n",
       "      <td>8277</td>\n",
       "      <td>37</td>\n",
       "    </tr>\n",
       "    <tr>\n",
       "      <th>14425</th>\n",
       "      <td>8432</td>\n",
       "      <td>37</td>\n",
       "    </tr>\n",
       "    <tr>\n",
       "      <th>14426</th>\n",
       "      <td>8483</td>\n",
       "      <td>37</td>\n",
       "    </tr>\n",
       "    <tr>\n",
       "      <th>14427</th>\n",
       "      <td>8484</td>\n",
       "      <td>37</td>\n",
       "    </tr>\n",
       "    <tr>\n",
       "      <th>14428</th>\n",
       "      <td>8504</td>\n",
       "      <td>37</td>\n",
       "    </tr>\n",
       "    <tr>\n",
       "      <th>14429</th>\n",
       "      <td>8622</td>\n",
       "      <td>37</td>\n",
       "    </tr>\n",
       "    <tr>\n",
       "      <th>14430</th>\n",
       "      <td>8911</td>\n",
       "      <td>37</td>\n",
       "    </tr>\n",
       "    <tr>\n",
       "      <th>14431</th>\n",
       "      <td>9459</td>\n",
       "      <td>37</td>\n",
       "    </tr>\n",
       "    <tr>\n",
       "      <th>14432</th>\n",
       "      <td>9505</td>\n",
       "      <td>37</td>\n",
       "    </tr>\n",
       "    <tr>\n",
       "      <th>14433</th>\n",
       "      <td>9639</td>\n",
       "      <td>37</td>\n",
       "    </tr>\n",
       "    <tr>\n",
       "      <th>14434</th>\n",
       "      <td>9751</td>\n",
       "      <td>37</td>\n",
       "    </tr>\n",
       "    <tr>\n",
       "      <th>14435</th>\n",
       "      <td>9894</td>\n",
       "      <td>37</td>\n",
       "    </tr>\n",
       "    <tr>\n",
       "      <th>14436</th>\n",
       "      <td>9988</td>\n",
       "      <td>37</td>\n",
       "    </tr>\n",
       "    <tr>\n",
       "      <th>14437</th>\n",
       "      <td>10042</td>\n",
       "      <td>37</td>\n",
       "    </tr>\n",
       "    <tr>\n",
       "      <th>14438</th>\n",
       "      <td>10089</td>\n",
       "      <td>37</td>\n",
       "    </tr>\n",
       "    <tr>\n",
       "      <th>14439</th>\n",
       "      <td>10110</td>\n",
       "      <td>37</td>\n",
       "    </tr>\n",
       "    <tr>\n",
       "      <th>14440</th>\n",
       "      <td>10311</td>\n",
       "      <td>37</td>\n",
       "    </tr>\n",
       "  </tbody>\n",
       "</table>\n",
       "</div>"
      ],
      "text/plain": [
       "        node  label\n",
       "14388   1053     37\n",
       "14389   1762     37\n",
       "14390   1851     37\n",
       "14391   1866     37\n",
       "14392   2382     37\n",
       "14393   2508     37\n",
       "14394   3037     37\n",
       "14395   3045     37\n",
       "14396   3128     37\n",
       "14397   3690     37\n",
       "14398   3704     37\n",
       "14399   4113     37\n",
       "14400   4452     37\n",
       "14401   4465     37\n",
       "14402   5129     37\n",
       "14403   5930     37\n",
       "14404   5937     37\n",
       "14405   6338     37\n",
       "14406   6363     37\n",
       "14407   6384     37\n",
       "14408   6389     37\n",
       "14409   6404     37\n",
       "14410   6689     37\n",
       "14411   6860     37\n",
       "14412   7181     37\n",
       "14413   7249     37\n",
       "14414   7459     37\n",
       "14415   7554     37\n",
       "14416   7567     37\n",
       "14417   7651     37\n",
       "14418   7677     37\n",
       "14419   7849     37\n",
       "14420   7886     37\n",
       "14421   7887     37\n",
       "14422   8114     37\n",
       "14423   8225     37\n",
       "14424   8277     37\n",
       "14425   8432     37\n",
       "14426   8483     37\n",
       "14427   8484     37\n",
       "14428   8504     37\n",
       "14429   8622     37\n",
       "14430   8911     37\n",
       "14431   9459     37\n",
       "14432   9505     37\n",
       "14433   9639     37\n",
       "14434   9751     37\n",
       "14435   9894     37\n",
       "14436   9988     37\n",
       "14437  10042     37\n",
       "14438  10089     37\n",
       "14439  10110     37\n",
       "14440  10311     37"
      ]
     },
     "execution_count": 248,
     "metadata": {},
     "output_type": "execute_result"
    }
   ],
   "source": [
    "label_nodes_df[label_nodes_df['label'] == 37]"
   ]
  },
  {
   "cell_type": "markdown",
   "id": "ce105e81-175a-458e-a9e1-569dccd647fc",
   "metadata": {},
   "source": [
    "Meaning that there are cases where 1 node has 2 labels or more. This is generally when 1 blog can contain several information like `Science` and `Technology`, which contains 2 labels"
   ]
  },
  {
   "cell_type": "code",
   "execution_count": 48,
   "id": "70d40893-e7d2-4676-af6a-78fbc20ba0fc",
   "metadata": {},
   "outputs": [
    {
     "name": "stdout",
     "output_type": "stream",
     "text": [
      "Number of nodes: 10312\n",
      "Number of edges: 333983\n"
     ]
    }
   ],
   "source": [
    "# Number of nodes\n",
    "print(f\"Number of nodes: {len(G.nodes)}\")\n",
    "\n",
    "# Number of edges\n",
    "print(f\"Number of edgesVinFuture prize 2023: {len(G.edges)}\")"
   ]
  },
  {
   "cell_type": "code",
   "execution_count": 50,
   "id": "16c0768a-b021-48e5-96b8-c3c195643e77",
   "metadata": {},
   "outputs": [
    {
     "data": {
      "text/plain": [
       "10312"
      ]
     },
     "execution_count": 50,
     "metadata": {},
     "output_type": "execute_result"
    }
   ],
   "source": [
    "len(label_nodes_df['node'].unique())\n"
   ]
  },
  {
   "cell_type": "markdown",
   "id": "9c0b193a-f5b0-4e4e-8c93-795ffbecdc65",
   "metadata": {},
   "source": [
    "The first node id starts with 1"
   ]
  },
  {
   "cell_type": "markdown",
   "id": "baee4f16-f249-4843-9887-2d0ce52f778f",
   "metadata": {},
   "source": [
    "### Visualizing a subset of the graph"
   ]
  },
  {
   "cell_type": "code",
   "execution_count": 55,
   "id": "e6790d4b-c519-4e07-8bbf-32b77e4a82ee",
   "metadata": {},
   "outputs": [
    {
     "data": {
      "text/plain": [
       "NodeView((1, 2, 3, 4, 5, 6, 7, 8, 9, 10, 11, 12, 13, 14, 15, 16, 17, 18, 19, 20, 21, 22, 23, 24, 25, 26, 27, 28, 29, 30, 31, 32, 33, 34, 35, 36, 37, 38, 39, 40, 41, 42, 43, 44, 45, 46, 47, 48, 49, 50, 51, 52, 53, 54, 55, 56, 57, 58, 59, 60, 61, 62, 63, 64, 65, 66, 67, 68, 69, 70, 71, 72, 73, 74, 75, 76, 77, 78, 79, 80, 81, 82, 83, 84, 85, 86, 87, 88, 89, 90, 91, 92, 93, 94, 95, 96, 97, 98, 99, 100, 101, 102, 103, 104, 105, 106, 107, 108, 109, 110, 111, 112, 113, 114, 115, 116, 117, 118, 119, 120, 121, 122, 123, 124, 125, 126, 127, 128, 129, 130, 131, 132, 133, 134, 135, 136, 137, 138, 139, 140, 141, 142, 143, 144, 145, 146, 147, 148, 149, 150, 151, 152, 153, 154, 155, 156, 157, 158, 159, 160, 161, 162, 163, 164, 165, 166, 167, 168, 169, 170, 171, 172, 173, 174, 175, 176, 177, 178, 179, 180, 181, 182, 183, 184, 185, 186, 187, 188, 189, 190, 191, 192, 193, 194, 195, 196, 197, 198, 199, 200, 201, 202, 203, 204, 205, 206, 207, 208, 209, 210, 211, 212, 213, 214, 215, 216, 217, 218, 219, 220, 221, 222, 223, 224, 225, 226, 227, 228, 229, 230, 231, 232, 233, 234, 235, 236, 237, 238, 239, 240, 241, 242, 243, 244, 245, 246, 247, 248, 249, 250, 251, 252, 253, 254, 255, 256, 257, 258, 259, 260, 261, 262, 263, 264, 265, 266, 267, 268, 269, 270, 271, 272, 273, 274, 275, 276, 277, 278, 279, 280, 281, 282, 283, 284, 285, 286, 287, 288, 289, 290, 291, 292, 293, 294, 295, 296, 297, 298, 299, 300, 301, 302, 303, 304, 305, 306, 307, 308, 309, 310, 311, 312, 313, 314, 315, 316, 317, 318, 319, 320, 321, 322, 323, 324, 325, 326, 327, 328, 329, 330, 331, 332, 333, 334, 335, 336, 337, 338, 339, 340, 341, 342, 343, 344, 345, 346, 347, 348, 349, 350, 351, 352, 353, 354, 355, 356, 357, 358, 359, 360, 361, 362, 363, 364, 365, 366, 367, 368, 369, 370, 371, 372, 373, 374, 375, 376, 377, 378, 379, 380, 381, 382, 383, 384, 385, 386, 387, 388, 389, 390, 391, 392, 393, 394, 395, 396, 397, 398, 399, 400, 401, 402, 403, 404, 405, 406, 407, 408, 409, 410, 411, 412, 413, 414, 415, 416, 417, 418, 419, 420, 421, 422, 423, 424, 425, 426, 427, 428, 429, 430, 431, 432, 433, 434, 435, 436, 437, 438, 439, 440, 441, 442, 443, 444, 445, 446, 447, 448, 449, 450, 451, 452, 453, 454, 455, 456, 457, 458, 459, 460, 461, 462, 463, 464, 465, 466, 467, 468, 469, 470, 471, 472, 473, 474, 475, 476, 477, 478, 479, 480, 481, 482, 483, 484, 485, 486, 487, 488, 489, 490, 491, 492, 493, 494, 495, 496, 497, 498, 499))"
      ]
     },
     "execution_count": 55,
     "metadata": {},
     "output_type": "execute_result"
    }
   ],
   "source": [
    "H.nodes"
   ]
  },
  {
   "cell_type": "markdown",
   "id": "66773778-fa81-4188-9804-61b942292789",
   "metadata": {},
   "source": [
    "We pick the first 500 nodes and visualize the graph"
   ]
  },
  {
   "cell_type": "code",
   "execution_count": 82,
   "id": "15a816ad-a209-4487-ad89-4d4484adb7e5",
   "metadata": {},
   "outputs": [
    {
     "name": "stdout",
     "output_type": "stream",
     "text": [
      "5460\n"
     ]
    },
    {
     "data": {
      "image/png": "[encoded data removed]",
      "text/plain": [
       "<Figure size 1000x800 with 1 Axes>"
      ]
     },
     "metadata": {},
     "output_type": "display_data"
    }
   ],
   "source": [
    "nodes_range = range(1000)  # Range of nodes from 0 to 100\n",
    "\n",
    "# Create a subgraph directly\n",
    "H = G.subgraph(nodes_range)\n",
    "\n",
    "# Get the edges of the subgraph\n",
    "subgraph_edges = list(H.edges)\n",
    "\n",
    "print(len(subgraph_edges))\n",
    "\n",
    "# Draw the filtered subgraph\n",
    "plt.figure(figsize=(10, 8))\n",
    "nx.draw(H, with_labels=True, node_size=50, font_size=8)\n",
    "plt.title(\"Visualization of Nodes from 1 to 500 and Their Edges\")\n",
    "plt.show()\n"
   ]
  },
  {
   "cell_type": "markdown",
   "id": "36df2d05-37a0-4c46-8f56-b1614d46442e",
   "metadata": {},
   "source": [
    "The visualization is sparse since it only display the connection the edges between the nodes in range from 1 to 500. "
   ]
  },
  {
   "cell_type": "code",
   "execution_count": 319,
   "id": "2a9b6b79-db2a-449a-aeef-94e95467e069",
   "metadata": {},
   "outputs": [],
   "source": [
    "def create_random_walk(graph, start_vertex, length = 5):\n",
    "\n",
    "    walk = [start_vertex]\n",
    "    current_vertex = start_vertex\n",
    "    for _ in range(length):\n",
    "        neighbors = list(graph.neighbors(current_vertex))\n",
    "        if not neighbors:  # Handle case where there are no neighbors\n",
    "            break\n",
    "        chosen_node = np.random.choice(neighbors)\n",
    "        walk.append(chosen_node)\n",
    "        current_vertex = chosen_node\n",
    "\n",
    "    return walk\n",
    "\n",
    "# Conducting the algorithm with multi-threading to improve the performance of the model\n",
    "def random_walk_multi(graph, start_vertices, num_steps, num_threads = 4):\n",
    "    results = {}\n",
    "\n",
    "    def worker(start_vertex):\n",
    "        path = create_random_walk(graph, start_vertex, num_steps)\n",
    "        results[start_vertex] = path\n",
    "\n",
    "    with ThreadPoolExecutor(max_workers = num_threads) as executor:\n",
    "        # executor.map(worker, start_vertices)\n",
    "        list(tqdm(executor.map(worker, start_vertices), \n",
    "                  total=len(start_vertices), desc=\"Processing Vertices\"))\n",
    "\n",
    "        \n",
    "    return results\n",
    "# create_random_walk(G, 1, length = 10)"
   ]
  },
  {
   "cell_type": "code",
   "execution_count": 320,
   "id": "8cd4d559-d669-40fd-8789-338040d19a35",
   "metadata": {},
   "outputs": [],
   "source": [
    "class DeepWalkDataset(Dataset):\n",
    "    def __init__(self, training_data, vertex_to_index):\n",
    "        self.training_data = training_data\n",
    "        self.vertex_to_index = vertex_to_index\n",
    "\n",
    "        self.index_to_vertex = {index: vertex for vertex, index in self.vertex_to_index.items()}\n",
    "    def __len__(self):\n",
    "        return len(self.training_data)\n",
    "\n",
    "    def __getitem__(self, index):\n",
    "        center_vertex, context_vertices = self.training_data[index]\n",
    "        center_index = torch.tensor(self.vertex_to_index[center_vertex])\n",
    "        context_indices = torch.tensor(self.vertex_to_index[context_vertices])\n",
    "\n",
    "        return center_index, context_indices"
   ]
  },
  {
   "cell_type": "code",
   "execution_count": 321,
   "id": "e1315da3-833f-4de7-a085-0f755b53e121",
   "metadata": {},
   "outputs": [
    {
     "data": {
      "application/vnd.jupyter.widget-view+json": {
       "model_id": "4ecd5d122f0d44f0baea2386715550b3",
       "version_major": 2,
       "version_minor": 0
      },
      "text/plain": [
       "Generating Random Walks:   0%|          | 0/60 [00:00<?, ?it/s]"
      ]
     },
     "metadata": {},
     "output_type": "display_data"
    },
    {
     "data": {
      "application/vnd.jupyter.widget-view+json": {
       "model_id": "555e512d4b9e493298f90ae73f695b3f",
       "version_major": 2,
       "version_minor": 0
      },
      "text/plain": [
       "Processing Vertices:   0%|          | 0/10312 [00:00<?, ?it/s]"
      ]
     },
     "metadata": {},
     "output_type": "display_data"
    },
    {
     "ename": "KeyboardInterrupt",
     "evalue": "",
     "output_type": "error",
     "traceback": [
      "\u001b[0;31m---------------------------------------------------------------------------\u001b[0m",
      "\u001b[0;31mKeyboardInterrupt\u001b[0m                         Traceback (most recent call last)",
      "Cell \u001b[0;32mIn[321], line 36\u001b[0m\n\u001b[1;32m     32\u001b[0m     \u001b[38;5;28;01mreturn\u001b[39;00m training_data\n\u001b[1;32m     34\u001b[0m \u001b[38;5;66;03m# walks_dataset = random_walks_dataset(H, num_walks, walk_length, window_size)\u001b[39;00m\n\u001b[0;32m---> 36\u001b[0m training_data \u001b[38;5;241m=\u001b[39m \u001b[43mrandom_walks_dataset\u001b[49m\u001b[43m(\u001b[49m\u001b[43mG\u001b[49m\u001b[43m,\u001b[49m\u001b[43m \u001b[49m\u001b[43mnum_walks\u001b[49m\u001b[43m,\u001b[49m\u001b[43m \u001b[49m\u001b[43mwalk_length\u001b[49m\u001b[43m,\u001b[49m\u001b[43m \u001b[49m\u001b[43mwindow_size\u001b[49m\u001b[43m)\u001b[49m\n",
      "Cell \u001b[0;32mIn[321], line 11\u001b[0m, in \u001b[0;36mrandom_walks_dataset\u001b[0;34m(graph, num_walks, walk_length, window_size)\u001b[0m\n\u001b[1;32m      8\u001b[0m list_vertices \u001b[38;5;241m=\u001b[39m \u001b[38;5;28mlist\u001b[39m(graph\u001b[38;5;241m.\u001b[39mnodes)\n\u001b[1;32m     10\u001b[0m \u001b[38;5;28;01mfor\u001b[39;00m i \u001b[38;5;129;01min\u001b[39;00m tqdm(\u001b[38;5;28mrange\u001b[39m(num_walks), desc\u001b[38;5;241m=\u001b[39m\u001b[38;5;124m\"\u001b[39m\u001b[38;5;124mGenerating Random Walks\u001b[39m\u001b[38;5;124m\"\u001b[39m):\n\u001b[0;32m---> 11\u001b[0m     walks \u001b[38;5;241m=\u001b[39m \u001b[43mrandom_walk_multi\u001b[49m\u001b[43m(\u001b[49m\u001b[43mgraph\u001b[49m\u001b[43m,\u001b[49m\u001b[43m \u001b[49m\u001b[43mlist_vertices\u001b[49m\u001b[43m,\u001b[49m\u001b[43m \u001b[49m\u001b[43mwalk_length\u001b[49m\u001b[43m,\u001b[49m\u001b[43m \u001b[49m\u001b[43mnum_threads\u001b[49m\u001b[43m \u001b[49m\u001b[38;5;241;43m=\u001b[39;49m\u001b[43m \u001b[49m\u001b[38;5;241;43m10\u001b[39;49m\u001b[43m)\u001b[49m\n\u001b[1;32m     12\u001b[0m     all_walks\u001b[38;5;241m.\u001b[39mextend(\u001b[38;5;28mlist\u001b[39m(walks\u001b[38;5;241m.\u001b[39mvalues()))\n\u001b[1;32m     14\u001b[0m vertex_to_index \u001b[38;5;241m=\u001b[39m {vertex: index \u001b[38;5;28;01mfor\u001b[39;00m index, vertex \u001b[38;5;129;01min\u001b[39;00m \u001b[38;5;28menumerate\u001b[39m(list_vertices)}\n",
      "Cell \u001b[0;32mIn[319], line 25\u001b[0m, in \u001b[0;36mrandom_walk_multi\u001b[0;34m(graph, start_vertices, num_steps, num_threads)\u001b[0m\n\u001b[1;32m     21\u001b[0m     results[start_vertex] \u001b[38;5;241m=\u001b[39m path\n\u001b[1;32m     23\u001b[0m \u001b[38;5;28;01mwith\u001b[39;00m ThreadPoolExecutor(max_workers \u001b[38;5;241m=\u001b[39m num_threads) \u001b[38;5;28;01mas\u001b[39;00m executor:\n\u001b[1;32m     24\u001b[0m     \u001b[38;5;66;03m# executor.map(worker, start_vertices)\u001b[39;00m\n\u001b[0;32m---> 25\u001b[0m     \u001b[38;5;28;43mlist\u001b[39;49m\u001b[43m(\u001b[49m\u001b[43mtqdm\u001b[49m\u001b[43m(\u001b[49m\u001b[43mexecutor\u001b[49m\u001b[38;5;241;43m.\u001b[39;49m\u001b[43mmap\u001b[49m\u001b[43m(\u001b[49m\u001b[43mworker\u001b[49m\u001b[43m,\u001b[49m\u001b[43m \u001b[49m\u001b[43mstart_vertices\u001b[49m\u001b[43m)\u001b[49m\u001b[43m,\u001b[49m\u001b[43m \u001b[49m\u001b[43mtotal\u001b[49m\u001b[38;5;241;43m=\u001b[39;49m\u001b[38;5;28;43mlen\u001b[39;49m\u001b[43m(\u001b[49m\u001b[43mstart_vertices\u001b[49m\u001b[43m)\u001b[49m\u001b[43m,\u001b[49m\u001b[43m \u001b[49m\u001b[43mdesc\u001b[49m\u001b[38;5;241;43m=\u001b[39;49m\u001b[38;5;124;43m\"\u001b[39;49m\u001b[38;5;124;43mProcessing Vertices\u001b[39;49m\u001b[38;5;124;43m\"\u001b[39;49m\u001b[43m)\u001b[49m\u001b[43m)\u001b[49m\n\u001b[1;32m     28\u001b[0m \u001b[38;5;28;01mreturn\u001b[39;00m results\n",
      "File \u001b[0;32m/opt/conda/lib/python3.11/site-packages/tqdm/notebook.py:250\u001b[0m, in \u001b[0;36mtqdm_notebook.__iter__\u001b[0;34m(self)\u001b[0m\n\u001b[1;32m    248\u001b[0m \u001b[38;5;28;01mtry\u001b[39;00m:\n\u001b[1;32m    249\u001b[0m     it \u001b[38;5;241m=\u001b[39m \u001b[38;5;28msuper\u001b[39m()\u001b[38;5;241m.\u001b[39m\u001b[38;5;21m__iter__\u001b[39m()\n\u001b[0;32m--> 250\u001b[0m \u001b[43m    \u001b[49m\u001b[38;5;28;43;01mfor\u001b[39;49;00m\u001b[43m \u001b[49m\u001b[43mobj\u001b[49m\u001b[43m \u001b[49m\u001b[38;5;129;43;01min\u001b[39;49;00m\u001b[43m \u001b[49m\u001b[43mit\u001b[49m\u001b[43m:\u001b[49m\n\u001b[1;32m    251\u001b[0m \u001b[43m        \u001b[49m\u001b[38;5;66;43;03m# return super(tqdm...) will not catch exception\u001b[39;49;00m\n\u001b[1;32m    252\u001b[0m \u001b[43m        \u001b[49m\u001b[38;5;28;43;01myield\u001b[39;49;00m\u001b[43m \u001b[49m\u001b[43mobj\u001b[49m\n\u001b[1;32m    253\u001b[0m \u001b[38;5;66;03m# NB: except ... [ as ...] breaks IPython async KeyboardInterrupt\u001b[39;00m\n",
      "File \u001b[0;32m/opt/conda/lib/python3.11/site-packages/tqdm/std.py:1181\u001b[0m, in \u001b[0;36mtqdm.__iter__\u001b[0;34m(self)\u001b[0m\n\u001b[1;32m   1178\u001b[0m time \u001b[38;5;241m=\u001b[39m \u001b[38;5;28mself\u001b[39m\u001b[38;5;241m.\u001b[39m_time\n\u001b[1;32m   1180\u001b[0m \u001b[38;5;28;01mtry\u001b[39;00m:\n\u001b[0;32m-> 1181\u001b[0m \u001b[43m    \u001b[49m\u001b[38;5;28;43;01mfor\u001b[39;49;00m\u001b[43m \u001b[49m\u001b[43mobj\u001b[49m\u001b[43m \u001b[49m\u001b[38;5;129;43;01min\u001b[39;49;00m\u001b[43m \u001b[49m\u001b[43miterable\u001b[49m\u001b[43m:\u001b[49m\n\u001b[1;32m   1182\u001b[0m \u001b[43m        \u001b[49m\u001b[38;5;28;43;01myield\u001b[39;49;00m\u001b[43m \u001b[49m\u001b[43mobj\u001b[49m\n\u001b[1;32m   1183\u001b[0m \u001b[43m        \u001b[49m\u001b[38;5;66;43;03m# Update and possibly print the progressbar.\u001b[39;49;00m\n\u001b[1;32m   1184\u001b[0m \u001b[43m        \u001b[49m\u001b[38;5;66;43;03m# Note: does not call self.update(1) for speed optimisation.\u001b[39;49;00m\n",
      "File \u001b[0;32m/opt/conda/lib/python3.11/concurrent/futures/_base.py:619\u001b[0m, in \u001b[0;36mExecutor.map.<locals>.result_iterator\u001b[0;34m()\u001b[0m\n\u001b[1;32m    616\u001b[0m \u001b[38;5;28;01mwhile\u001b[39;00m fs:\n\u001b[1;32m    617\u001b[0m     \u001b[38;5;66;03m# Careful not to keep a reference to the popped future\u001b[39;00m\n\u001b[1;32m    618\u001b[0m     \u001b[38;5;28;01mif\u001b[39;00m timeout \u001b[38;5;129;01mis\u001b[39;00m \u001b[38;5;28;01mNone\u001b[39;00m:\n\u001b[0;32m--> 619\u001b[0m         \u001b[38;5;28;01myield\u001b[39;00m \u001b[43m_result_or_cancel\u001b[49m\u001b[43m(\u001b[49m\u001b[43mfs\u001b[49m\u001b[38;5;241;43m.\u001b[39;49m\u001b[43mpop\u001b[49m\u001b[43m(\u001b[49m\u001b[43m)\u001b[49m\u001b[43m)\u001b[49m\n\u001b[1;32m    620\u001b[0m     \u001b[38;5;28;01melse\u001b[39;00m:\n\u001b[1;32m    621\u001b[0m         \u001b[38;5;28;01myield\u001b[39;00m _result_or_cancel(fs\u001b[38;5;241m.\u001b[39mpop(), end_time \u001b[38;5;241m-\u001b[39m time\u001b[38;5;241m.\u001b[39mmonotonic())\n",
      "File \u001b[0;32m/opt/conda/lib/python3.11/concurrent/futures/_base.py:317\u001b[0m, in \u001b[0;36m_result_or_cancel\u001b[0;34m(***failed resolving arguments***)\u001b[0m\n\u001b[1;32m    315\u001b[0m \u001b[38;5;28;01mtry\u001b[39;00m:\n\u001b[1;32m    316\u001b[0m     \u001b[38;5;28;01mtry\u001b[39;00m:\n\u001b[0;32m--> 317\u001b[0m         \u001b[38;5;28;01mreturn\u001b[39;00m \u001b[43mfut\u001b[49m\u001b[38;5;241;43m.\u001b[39;49m\u001b[43mresult\u001b[49m\u001b[43m(\u001b[49m\u001b[43mtimeout\u001b[49m\u001b[43m)\u001b[49m\n\u001b[1;32m    318\u001b[0m     \u001b[38;5;28;01mfinally\u001b[39;00m:\n\u001b[1;32m    319\u001b[0m         fut\u001b[38;5;241m.\u001b[39mcancel()\n",
      "File \u001b[0;32m/opt/conda/lib/python3.11/concurrent/futures/_base.py:451\u001b[0m, in \u001b[0;36mFuture.result\u001b[0;34m(self, timeout)\u001b[0m\n\u001b[1;32m    448\u001b[0m \u001b[38;5;28;01melif\u001b[39;00m \u001b[38;5;28mself\u001b[39m\u001b[38;5;241m.\u001b[39m_state \u001b[38;5;241m==\u001b[39m FINISHED:\n\u001b[1;32m    449\u001b[0m     \u001b[38;5;28;01mreturn\u001b[39;00m \u001b[38;5;28mself\u001b[39m\u001b[38;5;241m.\u001b[39m__get_result()\n\u001b[0;32m--> 451\u001b[0m \u001b[38;5;28;43mself\u001b[39;49m\u001b[38;5;241;43m.\u001b[39;49m\u001b[43m_condition\u001b[49m\u001b[38;5;241;43m.\u001b[39;49m\u001b[43mwait\u001b[49m\u001b[43m(\u001b[49m\u001b[43mtimeout\u001b[49m\u001b[43m)\u001b[49m\n\u001b[1;32m    453\u001b[0m \u001b[38;5;28;01mif\u001b[39;00m \u001b[38;5;28mself\u001b[39m\u001b[38;5;241m.\u001b[39m_state \u001b[38;5;129;01min\u001b[39;00m [CANCELLED, CANCELLED_AND_NOTIFIED]:\n\u001b[1;32m    454\u001b[0m     \u001b[38;5;28;01mraise\u001b[39;00m CancelledError()\n",
      "File \u001b[0;32m/opt/conda/lib/python3.11/threading.py:327\u001b[0m, in \u001b[0;36mCondition.wait\u001b[0;34m(self, timeout)\u001b[0m\n\u001b[1;32m    325\u001b[0m \u001b[38;5;28;01mtry\u001b[39;00m:    \u001b[38;5;66;03m# restore state no matter what (e.g., KeyboardInterrupt)\u001b[39;00m\n\u001b[1;32m    326\u001b[0m     \u001b[38;5;28;01mif\u001b[39;00m timeout \u001b[38;5;129;01mis\u001b[39;00m \u001b[38;5;28;01mNone\u001b[39;00m:\n\u001b[0;32m--> 327\u001b[0m         \u001b[43mwaiter\u001b[49m\u001b[38;5;241;43m.\u001b[39;49m\u001b[43macquire\u001b[49m\u001b[43m(\u001b[49m\u001b[43m)\u001b[49m\n\u001b[1;32m    328\u001b[0m         gotit \u001b[38;5;241m=\u001b[39m \u001b[38;5;28;01mTrue\u001b[39;00m\n\u001b[1;32m    329\u001b[0m     \u001b[38;5;28;01melse\u001b[39;00m:\n",
      "\u001b[0;31mKeyboardInterrupt\u001b[0m: "
     ]
    }
   ],
   "source": [
    "num_walks = 40\n",
    "walk_length = 40\n",
    "window_size = 10\n",
    "\n",
    "def random_walks_dataset(graph, num_walks, walk_length, window_size):\n",
    "    # Generate Random Walks part\n",
    "    all_walks = []\n",
    "    list_vertices = list(graph.nodes)\n",
    "    \n",
    "    for i in tqdm(range(num_walks), desc=\"Generating Random Walks\"):\n",
    "        walks = random_walk_multi(graph, list_vertices, walk_length, num_threads = 10)\n",
    "        all_walks.extend(list(walks.values()))\n",
    "\n",
    "    vertex_to_index = {vertex: index for index, vertex in enumerate(list_vertices)}\n",
    "    vocab_size = len(vertex_to_index)\n",
    "\n",
    "    # Skip Gram Part\n",
    "    training_data = []\n",
    "    for walk in tqdm(all_walks, desc=\"Processing walks For Skipgram\", unit=\"walk\"):\n",
    "        for i in range(len(walk)):\n",
    "            center_vertex = walk[i]\n",
    "\n",
    "            left_start = max(0, i - window_size)\n",
    "            right_end = min(len(walk), i + window_size + 1)\n",
    "            for j in range(left_start, right_end):\n",
    "                if i != j:\n",
    "                    training_data.append((center_vertex, walk[j]))\n",
    "\n",
    "    training_data = DeepWalkDataset(training_data, vertex_to_index)\n",
    "\n",
    "    \n",
    "    return training_data\n",
    "\n",
    "# walks_dataset = random_walks_dataset(H, num_walks, walk_length, window_size)\n",
    "\n",
    "training_data = random_walks_dataset(G, num_walks, walk_length, window_size)"
   ]
  },
  {
   "cell_type": "code",
   "execution_count": 242,
   "id": "c36ab8f9-9134-4a19-8a84-0c7e4887b9d9",
   "metadata": {},
   "outputs": [
    {
     "name": "stdout",
     "output_type": "stream",
     "text": [
      "Epoch: 1, Loss: 8.03852367401123\n",
      "Epoch: 2, Loss: 0.43794989585876465\n",
      "Epoch: 3, Loss: 0.148373082280159\n",
      "Epoch: 4, Loss: 0.07641376554965973\n",
      "Epoch: 5, Loss: 0.04680778831243515\n",
      "Epoch: 6, Loss: 0.031463976949453354\n",
      "Epoch: 7, Loss: 0.02240893803536892\n",
      "Epoch: 8, Loss: 0.016608746722340584\n",
      "Epoch: 9, Loss: 0.012672307901084423\n",
      "Epoch: 10, Loss: 0.00988306850194931\n"
     ]
    }
   ],
   "source": [
    "num_epochs = 10\n",
    "\n",
    "def learning_embed(training_dataset, model, num_epochs):\n",
    "    vertex2idx = training_dataset.vertex_to_index\n",
    "    idx2vertex = training_dataset.index_to_vertex\n",
    "    num_nodes = len(list(vertex2idx.values()))\n",
    "\n",
    "    # print(num_nodes)\n",
    "    training_loader_embed = DataLoader(training_dataset, batch_size = 32, shuffle = True)\n",
    "    deepwalk = model(num_nodes, 128).to(device)\n",
    "    optimizer = optim.Adam(deepwalk.parameters(), lr = 0.001)\n",
    "    \n",
    "    deepwalk.train()\n",
    "    for epoch in range(num_epochs):\n",
    "        total_loss = 0\n",
    "        for center, context in training_loader:\n",
    "            optimizer.zero_grad()\n",
    "            center = center.to(device)\n",
    "            context = context.to(device)\n",
    "\n",
    "            neg_logp = deepwalk(center, context)\n",
    "    \n",
    "            avg_logp = neg_logp.mean()\n",
    "            avg_logp.backward()\n",
    "            # for i in range(neg_logp.size(0)):\n",
    "            #     neg_logp[i].backward(retain_graph=True)  # retain_graph=True allows multiple backward passes\n",
    "    \n",
    "            optimizer.step()\n",
    "            total_loss += avg_logp\n",
    "    \n",
    "            # print(avg_logp)\n",
    "    \n",
    "        print(f'Epoch: {epoch + 1}, Loss: {total_loss / len(training_loader)}')\n",
    "\n",
    "    return deepwalk\n",
    "\n",
    "embed_model = learning_embed(training_data, DeepWalk_HierSoftmax, num_epochs)"
   ]
  },
  {
   "cell_type": "code",
   "execution_count": 312,
   "id": "f6ec137f-926d-432b-8ac2-08173b6dcd22",
   "metadata": {},
   "outputs": [
    {
     "name": "stdout",
     "output_type": "stream",
     "text": [
      "Epoch: 1, Loss: 90.3290023803711\n",
      "Epoch: 2, Loss: 63.79793167114258\n",
      "Epoch: 3, Loss: 45.06209945678711\n",
      "Epoch: 4, Loss: 31.806922912597656\n",
      "Epoch: 5, Loss: 22.41330337524414\n",
      "Epoch: 6, Loss: 15.758727073669434\n",
      "Epoch: 7, Loss: 11.050331115722656\n",
      "Epoch: 8, Loss: 7.756632328033447\n",
      "Epoch: 9, Loss: 5.494896411895752\n",
      "Epoch: 10, Loss: 3.991975784301758\n"
     ]
    }
   ],
   "source": [
    "embed_model_lol = learning_embed(training_data, DeepWalk, num_epochs)"
   ]
  },
  {
   "cell_type": "markdown",
   "id": "f8f920fb-1e05-4467-a031-64cd847264d0",
   "metadata": {},
   "source": [
    "### Node Classification\n",
    "\n",
    "In this stage we will implement the Multi-Label Classification with the One-vs-Rest Logistic algorithm implemented by LibLinear "
   ]
  },
  {
   "cell_type": "code",
   "execution_count": 243,
   "id": "9ea8403f-a5d9-4e17-957f-eafff310cf51",
   "metadata": {},
   "outputs": [
    {
     "data": {
      "text/plain": [
       "torch.Size([10312, 128])"
      ]
     },
     "execution_count": 243,
     "metadata": {},
     "output_type": "execute_result"
    }
   ],
   "source": [
    "embed_model.embeddings.weight.shape"
   ]
  },
  {
   "cell_type": "code",
   "execution_count": 316,
   "id": "c5e6a5ce-b370-4949-93d8-a19b44c834f2",
   "metadata": {},
   "outputs": [
    {
     "name": "stdout",
     "output_type": "stream",
     "text": [
      "10312\n",
      "[37]\n",
      "[37]\n",
      "{0: np.int64(1), 1: np.int64(2), 2: np.int64(3), 3: np.int64(4), 4: np.int64(5), 5: np.int64(6), 6: np.int64(7), 7: np.int64(8), 8: np.int64(9), 9: np.int64(10), 10: np.int64(11), 11: np.int64(12), 12: np.int64(13), 13: np.int64(14), 14: np.int64(15), 15: np.int64(16), 16: np.int64(17), 17: np.int64(18), 18: np.int64(19), 19: np.int64(20), 20: np.int64(21), 21: np.int64(22), 22: np.int64(23), 23: np.int64(24), 24: np.int64(25), 25: np.int64(26), 26: np.int64(27), 27: np.int64(28), 28: np.int64(29), 29: np.int64(30), 30: np.int64(31), 31: np.int64(32), 32: np.int64(33), 33: np.int64(34), 34: np.int64(35), 35: np.int64(36), 36: np.int64(37), 37: np.int64(38), 38: np.int64(39)}\n",
      "[0. 0. 0. 0. 0. 0. 0. 1. 0. 0. 0. 0. 0. 0. 0. 0. 0. 0. 1. 1. 0. 0. 0. 0.\n",
      " 0. 0. 0. 0. 0. 0. 0. 1. 0. 0. 0. 0. 0. 0. 0.]\n",
      "Test:\n",
      " [[0. 0. 1. ... 0. 0. 0.]\n",
      " [0. 0. 0. ... 0. 0. 0.]\n",
      " [0. 0. 0. ... 0. 0. 0.]\n",
      " ...\n",
      " [0. 0. 0. ... 0. 0. 0.]\n",
      " [0. 0. 0. ... 0. 0. 0.]\n",
      " [0. 1. 0. ... 0. 0. 0.]]\n",
      "Predict:\n",
      " [[0 0 0 ... 0 0 0]\n",
      " [0 0 0 ... 0 0 0]\n",
      " [0 0 0 ... 0 0 0]\n",
      " ...\n",
      " [0 0 0 ... 0 0 0]\n",
      " [0 1 0 ... 0 0 0]\n",
      " [0 0 0 ... 0 0 0]]\n",
      "Hamming Loss: 0.06344612201865887\n",
      "Macro F1 Score: 0.04772932582400926\n",
      "Micro F1 Score: 0.11586971586971587\n"
     ]
    }
   ],
   "source": [
    "from sklearn.multiclass import OneVsRestClassifier\n",
    "from sklearn.linear_model import LogisticRegression\n",
    "from sklearn.model_selection import train_test_split\n",
    "from sklearn.metrics import hamming_loss, f1_score\n",
    "\n",
    "\n",
    "def node_classification(model, training_data, labels_df, labels_node_df):\n",
    "    model.eval()\n",
    "\n",
    "    idx2vertex = training_data.index_to_vertex\n",
    "    vertex2idx = training_data.vertex_to_index\n",
    "    print(len(vertex2idx))\n",
    "    # Creating the dataset for node_classification\n",
    "    # Take out the embeddings after training to Numpy\n",
    "    node_embeddings = model.embeddings.weight.detach().cpu().numpy()\n",
    "    # print(node_embeddings.shape)\n",
    "    labels = label_nodes_df.groupby('node')['label'].apply(list).to_dict()\n",
    "    print(labels[1762])\n",
    "    labels_scope = {vertex: labels[vertex] for vertex in labels if vertex in vertex2idx}\n",
    "\n",
    "    print(labels_scope[1762])\n",
    "    \n",
    "    # Index to label \n",
    "    idx2label = {}\n",
    "    for idx, label in enumerate(labels_df['label'].unique()):\n",
    "        idx2label[idx] = label\n",
    "\n",
    "    print(idx2label)\n",
    "    \n",
    "    label2idx = {label: idx for idx, label in idx2label.items()} \n",
    "    num_labels = len(list(label2idx.keys()))\n",
    "\n",
    "    num_nodes = len(list(labels_scope.keys()))\n",
    "    \n",
    "    Y = np.zeros((num_nodes, num_labels))\n",
    "    for idx, node in idx2vertex.items():\n",
    "        # print(idx, node)\n",
    "        if node in labels_scope:\n",
    "            for label in labels_scope.get(node, []):  \n",
    "                index_label = label2idx[label]\n",
    "                Y[idx, index_label] = 1\n",
    "\n",
    "    print(Y[1762, :])\n",
    "    X_train, X_test, y_train, y_test = train_test_split(node_embeddings, Y, \n",
    "                                                        test_size = 0.5, \n",
    "                                                        random_state = 42)\n",
    "\n",
    "    \n",
    "    # Train a Liblinear model for multi-label classification (binary relevance approach)\n",
    "    # We'll use one Logistic Regression per label\n",
    "    clf = OneVsRestClassifier(\n",
    "        LogisticRegression(\n",
    "            solver = \"liblinear\",\n",
    "            max_iter = 100)\n",
    "    )\n",
    "        \n",
    "    clf.fit(X_train, y_train)\n",
    "\n",
    "    y_score = clf.predict_proba(X_test) \n",
    "    num_label = np.sum(y_test, axis = 1, dtype = np.int64)\n",
    "    # Take the largest first and then descending\n",
    "    y_sort = np.fliplr(np.argsort(y_score, axis = 1))\n",
    "    y_pred = np.zeros_like(y_test, dtype=np.int64)\n",
    "    \n",
    "    for i in range(y_test.shape[0]):\n",
    "        for j in range(num_label[i]):\n",
    "            y_pred[i, y_sort[i, j]] = 1\n",
    "\n",
    "    # Evaluate the model\n",
    "    hamming = hamming_loss(y_test, y_pred)\n",
    "    print(f'Test:\\n', y_test)\n",
    "    print(f'Predict:\\n', y_pred)\n",
    "    f1_macro = f1_score(y_test, y_pred, average='macro', zero_division=0)\n",
    "    f1_micro = f1_score(y_test, y_pred, average='micro', zero_division=0)\n",
    "\n",
    "    print(f\"Hamming Loss: {hamming}\")\n",
    "    print(f\"Macro F1 Score: {f1_macro}\")\n",
    "    print(f\"Micro F1 Score: {f1_micro}\")\n",
    "    \n",
    "    return hamming, f1_macro, f1_micro, y_test, y_pred\n",
    "\n",
    "    \n",
    "hamming, f1_macro, f1_micro, y_test, y_pred = node_classification(embed_model_lol, \n",
    "                                                                  training_data, \n",
    "                                                  labels_df, labels_node_df)"
   ]
  },
  {
   "cell_type": "code",
   "execution_count": 305,
   "id": "126afa52-974c-48b1-9877-117c605284ec",
   "metadata": {},
   "outputs": [
    {
     "name": "stdout",
     "output_type": "stream",
     "text": [
      "10312\n",
      "[37]\n",
      "[37]\n",
      "{0: np.int64(1), 1: np.int64(2), 2: np.int64(3), 3: np.int64(4), 4: np.int64(5), 5: np.int64(6), 6: np.int64(7), 7: np.int64(8), 8: np.int64(9), 9: np.int64(10), 10: np.int64(11), 11: np.int64(12), 12: np.int64(13), 13: np.int64(14), 14: np.int64(15), 15: np.int64(16), 16: np.int64(17), 17: np.int64(18), 18: np.int64(19), 19: np.int64(20), 20: np.int64(21), 21: np.int64(22), 22: np.int64(23), 23: np.int64(24), 24: np.int64(25), 25: np.int64(26), 26: np.int64(27), 27: np.int64(28), 28: np.int64(29), 29: np.int64(30), 30: np.int64(31), 31: np.int64(32), 32: np.int64(33), 33: np.int64(34), 34: np.int64(35), 35: np.int64(36), 36: np.int64(37), 37: np.int64(38), 38: np.int64(39)}\n",
      "[0. 0. 0. 0. 0. 0. 0. 1. 0. 0. 0. 0. 0. 0. 0. 0. 0. 0. 1. 1. 0. 0. 0. 0.\n",
      " 0. 0. 0. 0. 0. 0. 0. 1. 0. 0. 0. 0. 0. 0. 0.]\n"
     ]
    }
   ],
   "source": [
    "idx2vertex = training_data.index_to_vertex\n",
    "vertex2idx = training_data.vertex_to_index\n",
    "print(len(vertex2idx))\n",
    "# Creating the dataset for node_classification\n",
    "# Take out the embeddings after training to Numpy\n",
    "node_embeddings = embed_model.embeddings.weight.detach().cpu().numpy()\n",
    "# print(node_embeddings.shape)\n",
    "labels = label_nodes_df.groupby('node')['label'].apply(list).to_dict()\n",
    "print(labels[1762])\n",
    "labels_scope = {vertex: labels[vertex] for vertex in labels if vertex in vertex2idx}\n",
    "\n",
    "print(labels_scope[1762])\n",
    "\n",
    "# Index to label \n",
    "idx2label = {}\n",
    "for idx, label in enumerate(labels_df['label'].unique()):\n",
    "    idx2label[idx] = label\n",
    "\n",
    "print(idx2label)\n",
    "\n",
    "label2idx = {label: idx for idx, label in idx2label.items()} \n",
    "num_labels = len(list(label2idx.keys()))\n",
    "\n",
    "num_nodes = len(list(labels_scope.keys()))\n",
    "\n",
    "Y = np.zeros((num_nodes, num_labels))\n",
    "for idx, node in idx2vertex.items():\n",
    "    # print(idx, node)\n",
    "    if node in labels_scope:\n",
    "        for label in labels_scope.get(node, []):  \n",
    "            index_label = label2idx[label]\n",
    "            Y[idx, index_label] = 1\n",
    "\n",
    "print(Y[1762, :])\n",
    "X_train, X_test, y_train, y_test = train_test_split(node_embeddings, Y, \n",
    "                                                    test_size = 0.2, \n",
    "                                                    random_state = 42)\n",
    "\n",
    "\n",
    "# Train a Liblinear model for multi-label classification (binary relevance approach)\n",
    "# We'll use one Logistic Regression per label\n"
   ]
  },
  {
   "cell_type": "code",
   "execution_count": 314,
   "id": "1e3122a6-8d83-4f82-a8e9-bf489c645456",
   "metadata": {},
   "outputs": [
    {
     "name": "stdout",
     "output_type": "stream",
     "text": [
      "Hamming Loss: 0.06224442870104528\n",
      "Macro F1 Score: 0.035145856950601545\n",
      "Micro F1 Score: 0.1247815449143656\n"
     ]
    }
   ],
   "source": []
  },
  {
   "cell_type": "code",
   "execution_count": 306,
   "id": "3fe391e3-4adb-472f-8e18-a320d629d777",
   "metadata": {},
   "outputs": [
    {
     "name": "stdout",
     "output_type": "stream",
     "text": [
      "[8, 19, 20, 32]\n"
     ]
    }
   ],
   "source": [
    "print(labels_scope[1763])"
   ]
  },
  {
   "cell_type": "code",
   "execution_count": 308,
   "id": "1fdf0952-d8e5-4826-b80e-a392ad131853",
   "metadata": {},
   "outputs": [
    {
     "name": "stdout",
     "output_type": "stream",
     "text": [
      "(8249, 128)\n"
     ]
    }
   ],
   "source": [
    "print(X_train.shape)"
   ]
  },
  {
   "cell_type": "code",
   "execution_count": 309,
   "id": "82795a86-4bac-451e-ad87-398498eeb7d1",
   "metadata": {},
   "outputs": [],
   "source": [
    "clf = OneVsRestClassifier(\n",
    "    LogisticRegression(\n",
    "        solver = \"liblinear\",\n",
    "        max_iter = 100)\n",
    ")\n",
    "    \n",
    "clf.fit(X_train, y_train)\n",
    "\n",
    "y_pred = clf.predict(X_test)\n"
   ]
  },
  {
   "cell_type": "code",
   "execution_count": 310,
   "id": "239171c0-b583-4f80-be90-59f0f70bad91",
   "metadata": {},
   "outputs": [
    {
     "name": "stdout",
     "output_type": "stream",
     "text": [
      "[[0 0 0 ... 1 0 0]\n",
      " [0 0 0 ... 0 0 0]\n",
      " [0 0 0 ... 0 0 0]\n",
      " ...\n",
      " [0 1 0 ... 0 0 0]\n",
      " [0 0 0 ... 0 0 0]\n",
      " [0 0 0 ... 0 0 0]]\n"
     ]
    }
   ],
   "source": [
    "y_score = clf.predict_proba(X_test) \n",
    "num_label = np.sum(y_test, axis = 1, dtype = np.int64)\n",
    "# Take the largest first and then descending\n",
    "y_sort = np.fliplr(np.argsort(y_score, axis = 1))\n",
    "y_pred = np.zeros_like(y_test, dtype=np.int64)\n",
    "\n",
    "for i in range(y_test.shape[0]):\n",
    "    for j in range(num_label[i]):\n",
    "        y_pred[i, y_sort[i, j]] = 1\n",
    "\n",
    "print(y_pred)"
   ]
  },
  {
   "cell_type": "code",
   "execution_count": 311,
   "id": "1dc7cf33-8f42-41b3-8184-3c5386ac67be",
   "metadata": {},
   "outputs": [
    {
     "name": "stdout",
     "output_type": "stream",
     "text": [
      "Test:\n",
      " [[0. 0. 1. ... 0. 0. 0.]\n",
      " [0. 0. 0. ... 0. 0. 0.]\n",
      " [0. 0. 0. ... 0. 0. 0.]\n",
      " ...\n",
      " [0. 0. 1. ... 0. 0. 0.]\n",
      " [0. 0. 0. ... 0. 0. 0.]\n",
      " [0. 0. 0. ... 0. 0. 0.]]\n",
      "Predict:\n",
      " [[0 0 0 ... 1 0 0]\n",
      " [0 0 0 ... 0 0 0]\n",
      " [0 0 0 ... 0 0 0]\n",
      " ...\n",
      " [0 1 0 ... 0 0 0]\n",
      " [0 0 0 ... 0 0 0]\n",
      " [0 0 0 ... 0 0 0]]\n",
      "Hamming Loss: 0.061946132716854965\n",
      "Macro F1 Score: 0.03940706945779105\n",
      "Micro F1 Score: 0.12897588255854597\n"
     ]
    },
    {
     "name": "stderr",
     "output_type": "stream",
     "text": [
      "/opt/conda/lib/python3.11/site-packages/sklearn/metrics/_classification.py:1531: UndefinedMetricWarning: F-score is ill-defined and being set to 0.0 in labels with no true nor predicted samples. Use `zero_division` parameter to control this behavior.\n",
      "  _warn_prf(average, modifier, f\"{metric.capitalize()} is\", len(result))\n"
     ]
    }
   ],
   "source": [
    "# Evaluate the model\n",
    "hamming = hamming_loss(y_test, y_pred)\n",
    "print(f'Test:\\n', y_test)\n",
    "print(f'Predict:\\n', y_pred)\n",
    "f1_macro = f1_score(y_test, y_pred, average='macro')\n",
    "f1_micro = f1_score(y_test, y_pred, average='micro')\n",
    "\n",
    "print(f\"Hamming Loss: {hamming}\")\n",
    "print(f\"Macro F1 Score: {f1_macro}\")\n",
    "print(f\"Micro F1 Score: {f1_micro}\")"
   ]
  },
  {
   "cell_type": "markdown",
   "id": "724bef91-9ee2-4ee8-a13c-29cacf4047aa",
   "metadata": {},
   "source": [
    "### Hamming Loss\n",
    "\n",
    "The **Hamming Loss** is a metric used to evaluate the performance of a multi-label classification model. It measures the fraction of incorrect labels (either false positives or false negatives) assigned by the model compared to the total number of labels.\n",
    "\n",
    "#### 1. **Definition**\n",
    "Hamming Loss calculates how far the predicted labels are from the true labels on average. It considers both:\n",
    "\n",
    " - **False Positives (FP)**: Labels predicted as 1 but are actually 0.\n",
    " - **False Negatives (FN)**: Labels predicted as 0 but are actually 1.\n",
    "\n",
    "The formula for Hamming Loss is:\n",
    "\n",
    "$$\\text{Hamming Loss} = \\frac{1}{N \\times L} \\sum_{i=1}^{N} \\sum_{j=1}^{L} \\mathbb{1}(Y_{ij} \\neq \\hat{Y}_{ij})$$\n",
    "\n",
    "Where:\n",
    "\n",
    "- $N:$ Total number of samples (instances or rows in the dataset).\n",
    "- $L:$ Total number of labels.\n",
    "- $Y_{ij}:$ The true value of the $j$-th label for the $i$-th sample (0 or 1)\n",
    "- $\\hat{Y}_{ij}:$ The predicted value of the $j$-th label for the $i$-th sample (0 or 1).\n",
    "- $1(Y_{ij} \\neq \\hat{Y}_{ij}):$ An indicator function that equals 1 if \n",
    "$Y_{ij} \\neq \\hat{Y}_{ij}$, and $0$ otherwise\n",
    "\n",
    "\n",
    "#### 2. **Interpretation**\n",
    "- **Hamming Loss = 0**:\n",
    "    - Perfect prediction: The model's predictions perfectly match the true labels for all instances and all labels.\n",
    "\n",
    "- **Higher Hamming Loss (closer to 1):**\n",
    "    - Indicates a larger fraction of labels that were incorrectly predicted across all samples"
   ]
  },
  {
   "cell_type": "markdown",
   "id": "733bcdca-c29a-4aba-884d-56f15b7992e3",
   "metadata": {},
   "source": [
    "### F1 Macro and F1 Micro\n",
    "\n",
    "The **F1 Macro** and **F1 Micro** scores are two different ways to compute the F1 score in multi-label classification, and they focus on different aspects of model performance.\n",
    "\n",
    "#### 1. F1 Macro\n",
    "- **Definition**: The **macro F1 score** computes the F1 score for each label individually and then takes the **average** across all labels, treating all labels equally regardless of how frequent or rare they are.\n",
    "- **Formula**:\n",
    "$$F1_{\\text{macro}} = \\frac{1}{L} \\sum_{l=1}^{L} F1_l$$\n",
    "where $L$ is the total number of labels and $F1_l$ is the F1 score for the $l$-th label is the F1 score for the $l$-th label.\n",
    "\n",
    "- **Use Case**:\n",
    "    - F1 Macro is **label-centric**.\n",
    "    - It gives equal importance to each label, making it a good choice when you are interested in the performance of the model on rare labels as well as common ones.\n",
    "    - If your dataset is **imbalanced**, rare labels will have a significant impact on the macro F1 score.\n",
    "\n",
    "#### 2. F1 Micro\n",
    "- **Definition**: The **micro F1 score** aggregates contributions from all labels and computes the F1 score globally by treating the problem as a single multi-class task.\n",
    "- **Formula**:\n",
    "$$F1_{\\text{micro}} = \\frac{2 \\times \\text{Precision}_{\\text{micro}} \\times \\text{Recall}_{\\text{micro}}}{\\text{Precision}_{\\text{micro}} + \\text{Recall}_{\\text{micro}}}\n",
    "$$\n",
    "\n",
    "Here, **micro Precision** and **micro Recall** are computed by summing up the true positives, false positives, and false negatives across all labels.\n",
    "\n",
    "- **Use Case**:\n",
    "    - F1 Micro is **sample-centric**.\n",
    "    - It is influenced more by the performance on frequent labels because frequent labels contribute more to the overall count of true positives, false positives, and false negatives.\n",
    "    - This makes it a good choice when you want an overall measure of how well the model is performing across all labels."
   ]
  }
 ],
 "metadata": {
  "kernelspec": {
   "display_name": "Python 3 (ipykernel)",
   "language": "python",
   "name": "python3"
  },
  "language_info": {
   "codemirror_mode": {
    "name": "ipython",
    "version": 3
   },
   "file_extension": ".py",
   "mimetype": "text/x-python",
   "name": "python",
   "nbconvert_exporter": "python",
   "pygments_lexer": "ipython3",
   "version": "3.11.10"
  }
 },
 "nbformat": 4,
 "nbformat_minor": 5
}
